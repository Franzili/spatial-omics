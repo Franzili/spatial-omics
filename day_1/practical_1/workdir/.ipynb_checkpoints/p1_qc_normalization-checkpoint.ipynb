{
 "cells": [
  {
   "cell_type": "markdown",
   "metadata": {
    "jp-MarkdownHeadingCollapsed": true
   },
   "source": [
    "## ELIXIR Spatial Transcriptomics Course\n",
    "### Practical 1a: Imaging-based spatial transcriptomics data QC and normalization \n",
    "Date: 2025-01-21\n",
    "\n",
    "Author(s): Rasool Saghaleyni, Åsa Björklund\n",
    "\n",
    "Author(s) email: <rasool.saghaleyni@scilifelab.se>, <asa.bjorklund@scilifelab.se>\n",
    "\n",
    "⚠️ Note: The proper environment for this notebook is `p1_qc_normalization`. It can be activated by selecting the kernel in the Jupyter notebook."
   ]
  },
  {
   "cell_type": "markdown",
   "metadata": {},
   "source": [
    "## Loading packages\n"
   ]
  },
  {
   "cell_type": "code",
   "execution_count": null,
   "metadata": {},
   "outputs": [],
   "source": [
    "import numpy as np\n",
    "import pandas as pd\n",
    "import os\n",
    "import matplotlib.pyplot as plt\n",
    "from matplotlib.colors import LinearSegmentedColormap\n",
    "import seaborn as sns\n",
    "import scanpy as sc\n",
    "import squidpy as sq\n",
    "import scipy.sparse as sp\n",
    "from scipy.stats import gaussian_kde\n",
    "from scipy.signal import find_peaks, argrelextrema\n",
    "from scipy.sparse import issparse, csr_matrix\n",
    "from diptest import diptest\n",
    "import statsmodels.api as sm\n",
    "from shapely.geometry import Point, Polygon, MultiPoint\n",
    "from scipy.spatial import ConvexHull\n",
    "import sys\n",
    "sys.path.append('./custom')\n",
    "import tenx_method_nb_helper_functions as hf"
   ]
  },
  {
   "cell_type": "markdown",
   "metadata": {},
   "source": [
    "## Dataset description and the design of the experiment\n",
    "Before starting the analysis, please make that you know about the biological background, experimental design and the data structure for the datset that we will do the analysis on it. Here you can find good information about this: https://pages.10xgenomics.com/rs/446-PBO-704/images/10x_LIT000210_App-Note_Xenium-In-Situ_Letter_Digital.pdf\n"
   ]
  },
  {
   "cell_type": "markdown",
   "metadata": {},
   "source": [
    "## Loading data and primary inspections\n",
    "\n",
    "\n"
   ]
  },
  {
   "cell_type": "markdown",
   "metadata": {},
   "source": [
    "Making adata object considering the transcripts that should be used for the analysis.\n",
    "Running analysis on the transcripts that are only in the nucleus. \n",
    "\n",
    "Data was downloaded from 10x at https://cf.10xgenomics.com/samples/xenium/1.4.0/Xenium_V1_FFPE_TgCRND8_17_9_months/Xenium_V1_FFPE_TgCRND8_17_9_months_outs.zip and unzipped in folder `data/`."
   ]
  },
  {
   "cell_type": "code",
   "execution_count": null,
   "metadata": {},
   "outputs": [],
   "source": [
    "sample_path = \"/data/spatial_workshop/day1/Xenium_V1_FFPE_TgCRND8_17_9_months_outs\"\n",
    "transcripts_csv_path = os.path.join(sample_path, \"transcripts.csv.gz\")\n",
    "transcripts_df = pd.read_csv(transcripts_csv_path, compression='gzip')\n",
    "nucleus_boundaries_gz_path = os.path.join(sample_path, \"nucleus_boundaries.csv.gz\")\n",
    "nucleus_df = pd.read_csv(nucleus_boundaries_gz_path, compression='gzip')\n",
    "if not os.path.exists(os.path.join(sample_path, \"cells.csv\")):\n",
    "    hf.decompress_file(os.path.join(sample_path, \"cells.csv.gz\"))\n"
   ]
  },
  {
   "cell_type": "markdown",
   "metadata": {},
   "source": [
    "### Making the adata object"
   ]
  },
  {
   "cell_type": "code",
   "execution_count": null,
   "metadata": {},
   "outputs": [],
   "source": [
    "adata = hf.create_adata(sample_path, nucleus_genes_only = False)\n",
    "adata"
   ]
  },
  {
   "cell_type": "markdown",
   "metadata": {},
   "source": [
    "The `AnnData` object, `adata`, contains a structured dataset with cells as observations (`n_obs = 62268`) and genes as variables (`n_vars = 347`). Here's a breakdown of the main components within `adata`:\n"
   ]
  },
  {
   "cell_type": "code",
   "execution_count": null,
   "metadata": {},
   "outputs": [],
   "source": [
    "adata.obs"
   ]
  },
  {
   "cell_type": "markdown",
   "metadata": {},
   "source": [
    "`obs` (Observations): This table contains metadata about each cell, where each row corresponds to a cell, and each column holds information about a specific attribute:\n",
    "\n",
    "- `cell_id`: Unique identifier for each cell.\n",
    "  \n",
    "- `x_centroid` and `y_centroid`: Coordinates of each cell’s center in the spatial layout, indicating where each cell is located within the tissue.\n",
    "  \n",
    "- `transcript_counts`: Total transcript counts for each cell, showing the overall gene expression level.\n",
    "- `control_probe_counts` and `control_codeword_counts`: Counts related to control probes and codewords, which are often used for quality control in spatial transcriptomics.\n",
    "- `unassigned_codeword_counts` and `deprecated_codeword_counts`: Counts of unassigned or deprecated codewords, indicating low-confidence or outdated identifiers.\n",
    "- `total_counts`: Total counts across all measured attributes, representing the cell’s total signal.\n",
    "- `cell_area` and `nucleus_area`: Physical measurements of the cell and its nucleus area, in pixels or micrometers."
   ]
  },
  {
   "cell_type": "code",
   "execution_count": null,
   "metadata": {},
   "outputs": [],
   "source": [
    "adata.var"
   ]
  },
  {
   "cell_type": "markdown",
   "metadata": {},
   "source": [
    "`var` (Variables): This table contains metadata about each gene, where each row is a gene and each column is an attribute:\n",
    "\n",
    "- `gene_ids`: Unique identifiers for each gene, often in Ensembl or another standardized format.\n",
    "  \n",
    "- `feature_types`: Type of feature associated with each gene, such as \"gene\" or \"transcript.\"\n",
    "  \n",
    "- `genome`: Information about the genome source of each gene, like \"human\" or \"mouse.\"\n",
    "\n",
    "`obsm` (Multi-dimensional Observations): This slot contains multi-dimensional data related to cells. Here, `spatial` stores spatial coordinates for each cell, allowing visualization and spatial analysis of cells in their tissue context."
   ]
  },
  {
   "cell_type": "code",
   "execution_count": null,
   "metadata": {},
   "outputs": [],
   "source": [
    "adata.obs['total_counts'] = adata.X.sum(axis=1)\n",
    "plt.figure(figsize=(8, 5))\n",
    "sns.histplot(adata.obs['total_counts'], kde='True', bins=50)\n",
    "plt.xlabel(\"Total Transcript Counts per Cell\")\n",
    "plt.ylabel(\"Number of Cells\")\n",
    "plt.title(\"Distribution of Total Transcript Counts per Cell\")\n",
    "plt.show()"
   ]
  },
  {
   "cell_type": "markdown",
   "metadata": {},
   "source": [
    "We calculate the total transcript counts for each cell by summing gene expression values across all genes and the number of genes detected in each cell. The resulting distributions gives us an overview of the data quality and cellular diversity in terms of RNA content.\n",
    "\n",
    "These provide a measure of each cell's transcriptional activity or RNA content. High total counts typically indicate cells with higher transcriptional activity, while very low total counts may suggest low-quality cells or empty spots with minimal RNA.\n",
    "Examining this distribution helps us assess data quality and identify potential outliers:\n",
    "\n",
    "- Cells with Very Low Counts: These may represent low-quality cells or background noise, which could be filtered out in subsequent steps to improve analysis accuracy.\n",
    "- Cells with Very High Counts: High total counts may indicate cell types with naturally high transcriptional activity or potential doublets (two cells counted as one).\n",
    "\n",
    "This plot provides a quick check of the dataset’s quality and helps inform any initial filtering steps. A typical goal is to ensure the data has a reasonable distribution of RNA counts per cell, without excessive noise or artifacts that might skew downstream analysis.\n",
    "\n"
   ]
  },
  {
   "cell_type": "code",
   "execution_count": null,
   "metadata": {},
   "outputs": [],
   "source": [
    "adata.obs['n_genes'] = (adata.X > 0).sum(axis=1)\n",
    "plt.figure(figsize=(8, 5))\n",
    "sns.histplot(adata.obs['n_genes'], kde=True, bins=50)\n",
    "plt.xlabel(\"Number of Genes Detected per Cell\")\n",
    "plt.ylabel(\"Number of Cells\")\n",
    "plt.title(\"Distribution of Genes Detected per Cell\")\n",
    "plt.show()"
   ]
  },
  {
   "cell_type": "markdown",
   "metadata": {},
   "source": [
    "Now lets find genes with the highest expression across the whole dataset. We calculate the mean expression level of each gene across all cells and identify the top 10 most highly expressed genes, then plot them to understand which genes dominate the transcriptional landscape. This helps us quickly identify genes with the highest abundance, which are often either essential housekeeping genes or specific markers that define particular cell types. Examining the top expressed genes serves both technical and biological purposes: it allows us to check for any potential technical artifacts (e.g., genes with unusually high background expression) and offers biological insight by highlighting key genes likely involved in core cellular functions or distinguishing cell types."
   ]
  },
  {
   "cell_type": "code",
   "execution_count": null,
   "metadata": {},
   "outputs": [],
   "source": [
    "#calculate mean expression for each gene\n",
    "mean_expression = adata.X.mean(axis=0).A1\n",
    "top_genes_idx = mean_expression.argsort()[::-1][:10]\n",
    "top_genes = adata.var_names[top_genes_idx]\n",
    "top_expression = mean_expression[top_genes_idx]\n",
    "plt.figure(figsize=(10, 5))\n",
    "sns.barplot(x=top_genes, y=top_expression)\n",
    "plt.xlabel(\"Genes\")\n",
    "plt.ylabel(\"Mean Expression\")\n",
    "plt.title(\"Top 10 Most Expressed Genes\")\n",
    "plt.xticks(rotation=45)\n",
    "plt.show()"
   ]
  },
  {
   "cell_type": "markdown",
   "metadata": {},
   "source": [
    "We can also look into the distributions of cell and nucleus areas to assess segmentation quality and examine cell size diversity across the dataset. These distributions provide an overview of the range of cell and nucleus sizes, helping to identify segmentation artifacts or inconsistencies, such as unusually small areas (which may indicate partial cells or segmentation errors) or large areas (potentially indicating doublets or merged cells)."
   ]
  },
  {
   "cell_type": "code",
   "execution_count": null,
   "metadata": {},
   "outputs": [],
   "source": [
    "#distribution of cell and nucleus areas\n",
    "plt.figure(figsize=(8, 5))\n",
    "sns.histplot(adata.obs['cell_area'], kde=True, bins=50)\n",
    "plt.xlabel(\"Cell Area\")\n",
    "plt.ylabel(\"Number of Cells\")\n",
    "plt.title(\"Distribution of Cell Areas\")\n",
    "plt.show()\n",
    "\n",
    "plt.figure(figsize=(8, 5))\n",
    "sns.histplot(adata.obs['nucleus_area'], kde=True, bins=50)\n",
    "plt.xlabel(\"Nucleus Area\")\n",
    "plt.ylabel(\"Number of Cells\")\n",
    "plt.title(\"Distribution of Nucleus Areas\")\n",
    "plt.show()"
   ]
  },
  {
   "cell_type": "markdown",
   "metadata": {},
   "source": [
    "Cell Area vs Nucleus Area"
   ]
  },
  {
   "cell_type": "code",
   "execution_count": null,
   "metadata": {},
   "outputs": [],
   "source": [
    "plt.figure(figsize=(8, 6))\n",
    "plt.scatter(adata.obs['cell_area'], adata.obs['nucleus_area'], alpha=0.5)\n",
    "plt.xlabel(\"Cell Area\")\n",
    "plt.ylabel(\"Nucleus Area\")\n",
    "plt.title(\"Cell Area vs Nucleus Area\")\n",
    "plt.show()"
   ]
  },
  {
   "cell_type": "markdown",
   "metadata": {},
   "source": [
    "Calculate cell-to-nucleus area ratio and plot it. This ratio provides a measure of the relative size of the nucleus compared to the whole cell, which can be informative for understanding cell morphology and the distribution of nuclear material within cells. A high ratio may indicate cells with large nuclei relative to their overall size, which could be relevant for cell type classification or biological interpretation. Examining this ratio helps identify potential outliers or unusual cell morphologies that may require further investigation or filtering."
   ]
  },
  {
   "cell_type": "code",
   "execution_count": null,
   "metadata": {},
   "outputs": [],
   "source": [
    "adata.obs['area_ratio'] = adata.obs['nucleus_area'] / adata.obs['cell_area']\n",
    "plt.figure(figsize=(8, 5))\n",
    "sns.histplot(adata.obs['area_ratio'], kde=True, bins=50)\n",
    "plt.xlabel(\"Nucleus-to-Cell Area Ratio\")\n",
    "plt.ylabel(\"Number of Cells\")\n",
    "plt.title(\"Distribution of Nucleus-to-Cell Area Ratios\")\n",
    "plt.show()"
   ]
  },
  {
   "cell_type": "markdown",
   "metadata": {},
   "source": [
    "Scatter plot of Cell Area vs Total Counts\n"
   ]
  },
  {
   "cell_type": "code",
   "execution_count": null,
   "metadata": {},
   "outputs": [],
   "source": [
    "plt.figure(figsize=(8, 6))\n",
    "plt.scatter(adata.obs['cell_area'], adata.obs['total_counts'], alpha=0.5)\n",
    "plt.xlabel(\"Cell Area\")\n",
    "plt.ylabel(\"Total Transcript Counts\")\n",
    "plt.title(\"Cell Area vs Total Transcript Counts\")\n",
    "plt.show()"
   ]
  },
  {
   "cell_type": "markdown",
   "metadata": {},
   "source": [
    "Spatial plot of cell and nucleus areas.  "
   ]
  },
  {
   "cell_type": "code",
   "execution_count": null,
   "metadata": {},
   "outputs": [],
   "source": [
    "#cell area\n",
    "sc.pl.spatial(adata, color='cell_area', spot_size=10, title=\"Spatial Distribution of Cell Area\")\n",
    "\n",
    "#nucleus area\n",
    "sc.pl.spatial(adata, color='nucleus_area', spot_size=10, title=\"Spatial Distribution of Nucleus Area\")"
   ]
  },
  {
   "cell_type": "markdown",
   "metadata": {},
   "source": [
    "Looking to spatial distibution of one of the genes. For example the gene \"MALL\""
   ]
  },
  {
   "cell_type": "code",
   "execution_count": null,
   "metadata": {},
   "outputs": [],
   "source": [
    "sc.pl.spatial(adata, color=['Cst3'], spot_size=10, title=\"Cst3 Gene Expression\")"
   ]
  },
  {
   "cell_type": "code",
   "execution_count": null,
   "metadata": {},
   "outputs": [],
   "source": [
    "#filter cells with nucleus area < 5\n",
    "initial_cells_count = adata.n_obs\n",
    "adata = adata[adata.obs['nucleus_area'] >= 5].copy()\n",
    "filtered_cells_count = adata.n_obs\n",
    "print(f\"Filtered out {initial_cells_count - filtered_cells_count} cells with nucleus_area < 5. Remaining cells: {filtered_cells_count}\")"
   ]
  },
  {
   "cell_type": "markdown",
   "metadata": {},
   "source": [
    "Plot distribution of total transcript counts per cell and distribution of Nucleus area after filtering"
   ]
  },
  {
   "cell_type": "code",
   "execution_count": null,
   "metadata": {},
   "outputs": [],
   "source": [
    "plt.figure(figsize=(8, 5))\n",
    "sns.histplot(adata.obs['total_counts'], kde=True, bins=50)\n",
    "plt.xlabel(\"Total Transcript Counts per Cell\")\n",
    "plt.ylabel(\"Number of Cells\")\n",
    "plt.title(\"Distribution of Total Transcript Counts per Cell After Filtering\")\n",
    "plt.show()\n",
    "\n",
    "plt.figure(figsize=(8, 5))\n",
    "sns.histplot(adata.obs['nucleus_area'], kde=True, bins=50)\n",
    "plt.xlabel(\"Nucleus Area\")\n",
    "plt.ylabel(\"Number of Cells\")\n",
    "plt.title(\"Distribution of Nucleus Area After Filtering\")\n",
    "plt.show()"
   ]
  },
  {
   "cell_type": "markdown",
   "metadata": {},
   "source": [
    "## Control probes and decoding metrics."
   ]
  },
  {
   "cell_type": "markdown",
   "metadata": {},
   "source": [
    "we can also look into the control probe counts and their spatial distribution to assess background noise and technical quality in the dataset. First, we plot the distribution of control probe counts across cells to understand how frequently control probes are detected. This distribution provides insights into potential technical noise or background signals, as higher-than-expected control counts may suggest artifacts or contamination. Next, we create a spatial plot of control probe counts, which allows us to see if any regions in the tissue exhibit unexpectedly high control counts, possibly indicating localized technical issues."
   ]
  },
  {
   "cell_type": "code",
   "execution_count": null,
   "metadata": {},
   "outputs": [],
   "source": [
    "#plot distribution of control probe counts\n",
    "plt.figure(figsize=(8, 5))\n",
    "sns.histplot(adata.obs['control_probe_counts'], kde=True, bins=50)\n",
    "plt.xlabel(\"Control Probe Counts\")\n",
    "plt.ylabel(\"Number of Cells\")\n",
    "plt.title(\"Distribution of Control Probe Counts\")\n",
    "plt.show()\n",
    "\n",
    "#spatial plot of control probe counts\n",
    "sc.pl.spatial(adata, color='control_probe_counts', spot_size=10, title=\"Spatial Distribution of Control Probe Counts\", cmap = 'viridis_r')"
   ]
  },
  {
   "cell_type": "code",
   "execution_count": null,
   "metadata": {},
   "outputs": [],
   "source": [
    "sc.pl.spatial(adata, color='control_codeword_counts', spot_size=15, title=\"Spatial Distribution of Control codeword Counts\", cmap='viridis_r')\n",
    "sc.pl.spatial(adata, color='unassigned_codeword_counts', spot_size=15, title=\"Spatial Distribution of Unassigned codeword Counts\", cmap='viridis_r')"
   ]
  },
  {
   "cell_type": "code",
   "execution_count": null,
   "metadata": {},
   "outputs": [],
   "source": [
    "print(pd.crosstab(adata.obs['control_probe_counts']>0, adata.obs['control_codeword_counts']>0))\n",
    "# not always in the same cells!\n",
    "\n",
    "print(pd.crosstab(adata.obs['control_codeword_counts']>0, adata.obs['unassigned_codeword_counts']>0))"
   ]
  },
  {
   "cell_type": "markdown",
   "metadata": {},
   "source": [
    "How does the control probes etc correlate to other quality measures?"
   ]
  },
  {
   "cell_type": "code",
   "execution_count": null,
   "metadata": {},
   "outputs": [],
   "source": [
    "adata.obs['ctrl_probe'] = (adata.obs['control_probe_counts']>0).astype(\"category\")\n",
    "adata.obs['ctrl_code'] = (adata.obs['control_codeword_counts']>0).astype(\"category\")\n",
    "adata.obs['unass_code'] = (adata.obs['unassigned_codeword_counts']>0).astype(\"category\")\n",
    "\n",
    "sc.pl.violin(adata, ['cell_area','nucleus_area','total_counts','n_genes'], groupby='ctrl_probe')\n",
    "sc.pl.violin(adata, ['cell_area','nucleus_area','total_counts','n_genes'], groupby='ctrl_code')\n",
    "sc.pl.violin(adata, ['cell_area','nucleus_area','total_counts','n_genes'], groupby='unass_code')"
   ]
  },
  {
   "cell_type": "markdown",
   "metadata": {},
   "source": [
    "Just seems to be larger cells with larger number of counts and genes."
   ]
  },
  {
   "cell_type": "markdown",
   "metadata": {},
   "source": [
    "## Explore filtering criteria\n"
   ]
  },
  {
   "cell_type": "code",
   "execution_count": null,
   "metadata": {},
   "outputs": [],
   "source": [
    "sc.pl.spatial(adata, color=['cell_area','nucleus_area'], spot_size=15, color_map = \"viridis_r\")\n",
    "sc.pl.spatial(adata, color=['total_counts','n_genes'], spot_size=15,  color_map = \"viridis_r\")\n"
   ]
  },
  {
   "cell_type": "markdown",
   "metadata": {},
   "source": [
    "All top region of the section is messed up, low counts and low number of features. Needs to be reomoved? Napari?\n",
    "\n",
    "Also, bunch of \"cells\" outside of the tissue. "
   ]
  },
  {
   "cell_type": "code",
   "execution_count": null,
   "metadata": {},
   "outputs": [],
   "source": [
    "sns.histplot(adata.obs['total_counts'], kde=True, bins=100)\n",
    "\n",
    "adata.obs['min10'] = adata.obs['total_counts'] < 10\n",
    "print(adata.obs['min10'].value_counts())\n",
    "adata.obs['min30'] = adata.obs['total_counts'] < 30\n",
    "print(adata.obs['min30'].value_counts())\n",
    "adata.obs['max600'] = adata.obs['total_counts'] > 600\n",
    "print(adata.obs['max600'].value_counts())\n",
    "\n",
    "sc.pl.spatial(adata, color=['min10','min30','max600'], spot_size=15, palette = [\"lightgray\",\"blue\"])\n"
   ]
  },
  {
   "cell_type": "code",
   "execution_count": null,
   "metadata": {},
   "outputs": [],
   "source": [
    "sns.histplot(adata.obs['n_genes'], kde=True, bins=100)\n",
    "\n",
    "\n",
    "adata.obs['Gmin5'] = adata.obs['n_genes'] < 5\n",
    "print(adata.obs['Gmin5'].value_counts())\n",
    "adata.obs['Gmax150'] = adata.obs['n_genes'] > 150\n",
    "print(adata.obs['Gmax150'].value_counts())\n",
    "\n",
    "sc.pl.spatial(adata, color=['Gmin5','Gmax150'], spot_size=15, palette = [\"lightgray\",\"blue\"])"
   ]
  },
  {
   "cell_type": "code",
   "execution_count": null,
   "metadata": {},
   "outputs": [],
   "source": [
    "sns.histplot(adata.obs['cell_area'], kde=True, bins=100)\n",
    "\n",
    "adata.obs['Amin10'] = adata.obs['cell_area'] < 10\n",
    "print(adata.obs['Amin10'].value_counts())\n",
    "adata.obs['Amin20'] = adata.obs['cell_area'] < 20\n",
    "print(adata.obs['Amin20'].value_counts())\n",
    "adata.obs['Amax1000'] = adata.obs['cell_area'] > 1000\n",
    "print(adata.obs['Amax1000'].value_counts())\n",
    "\n",
    "sc.pl.spatial(adata, color=['Amin10','Amin20','Amax1000'], spot_size=15, palette = [\"lightgray\",\"blue\"])\n"
   ]
  },
  {
   "cell_type": "code",
   "execution_count": null,
   "metadata": {},
   "outputs": [],
   "source": [
    "sns.histplot(adata.obs['nucleus_area'], kde=True, bins=100)\n",
    "\n",
    "adata.obs['Nmin10'] = adata.obs['nucleus_area'] < 10\n",
    "print(adata.obs['Nmin10'].value_counts())\n",
    "adata.obs['Nmin7'] = adata.obs['nucleus_area'] < 7\n",
    "print(adata.obs['Nmin7'].value_counts())\n",
    "adata.obs['Nmin6'] = adata.obs['nucleus_area'] < 6\n",
    "print(adata.obs['Nmin6'].value_counts())\n",
    "adata.obs['Nmax125'] = adata.obs['nucleus_area'] > 125\n",
    "print(adata.obs['Nmax125'].value_counts())\n",
    "\n",
    "sc.pl.spatial(adata, color=['Nmin10','Nmin6','Nmin7','Nmax125'], spot_size=15, palette = [\"lightgray\",\"blue\"])\n"
   ]
  },
  {
   "cell_type": "code",
   "execution_count": null,
   "metadata": {},
   "outputs": [],
   "source": [
    "adata.obs.sort_values(by=\"nucleus_area\").head(20)"
   ]
  },
  {
   "cell_type": "markdown",
   "metadata": {},
   "source": [
    "Many cells with exact same nucleus area - at 5.012344, Clearly varying cell area for same cells."
   ]
  },
  {
   "cell_type": "code",
   "execution_count": null,
   "metadata": {},
   "outputs": [],
   "source": [
    "plt.scatter(adata.obs['cell_area'], adata.obs['nucleus_area'], c=adata.obs['total_counts'],alpha=0.5, cmap='viridis_r')"
   ]
  },
  {
   "cell_type": "code",
   "execution_count": null,
   "metadata": {},
   "outputs": [],
   "source": [
    "plt.scatter(adata.obs['cell_area'], adata.obs['total_counts'], c=adata.obs['n_genes'],alpha=0.5, cmap='viridis_r')"
   ]
  },
  {
   "cell_type": "code",
   "execution_count": null,
   "metadata": {},
   "outputs": [],
   "source": [
    "plt.scatter(adata.obs['total_counts'], adata.obs['n_genes'], c=adata.obs['cell_area'],alpha=0.5, cmap='viridis_r')"
   ]
  },
  {
   "cell_type": "markdown",
   "metadata": {},
   "source": [
    "Look at gene detection"
   ]
  },
  {
   "cell_type": "code",
   "execution_count": null,
   "metadata": {},
   "outputs": [],
   "source": [
    "adata.var['n_cell'] = adata.X.getnnz(axis=0)\n",
    "adata.var['n_count'] = adata.X.sum(axis=0).A1\n",
    "\n",
    "sns.histplot(adata.var['n_cell'], kde=True, bins=100)\n",
    "sns.histplot(adata.var['n_count'], kde=True, bins=100)"
   ]
  },
  {
   "cell_type": "code",
   "execution_count": null,
   "metadata": {},
   "outputs": [],
   "source": [
    "fig, axs = plt.subplots(2, 2, figsize=(10,8),constrained_layout=True)\n",
    "sns.histplot(adata.var['n_cell'], kde=True, bins=100, ax = axs[0,0])\n",
    "sns.histplot(adata.var['n_count'], kde=True, bins=100, ax = axs[0,1])\n",
    "plt.scatter(adata.var['n_count'], adata.var['n_cell'], alpha=0.5)"
   ]
  },
  {
   "cell_type": "markdown",
   "metadata": {},
   "source": [
    "Most genes are detected in around 5K of the 61K cells. A few are in pretty much every cell. Lowest number is 112 cells.\n",
    "\n",
    "The few genes with extremely high counts will effect normalization a great deal."
   ]
  },
  {
   "cell_type": "code",
   "execution_count": null,
   "metadata": {},
   "outputs": [],
   "source": [
    "adata.var['n_cell'].min()"
   ]
  },
  {
   "cell_type": "code",
   "execution_count": null,
   "metadata": {},
   "outputs": [],
   "source": [
    "sc.pl.highest_expr_genes(adata)"
   ]
  },
  {
   "cell_type": "markdown",
   "metadata": {},
   "source": [
    "## Filtering, Normalizing and Cleaning data"
   ]
  },
  {
   "cell_type": "markdown",
   "metadata": {},
   "source": [
    "Run filtering with:\n",
    "\n",
    "Nuclei size < 7\n",
    "\n",
    "Area < 20, >1000\n",
    "\n",
    "Total counts < 30, > 600\n",
    "\n",
    "Number of genes <4, > 150"
   ]
  },
  {
   "cell_type": "markdown",
   "metadata": {},
   "source": [
    "Filter out the cells that have nuclei smaller than 7 microns."
   ]
  },
  {
   "cell_type": "markdown",
   "metadata": {},
   "source": [
    "What do you think could be a good cutoff for filtering out lowly expressed genes and cells with low transcript count?\n",
    "Lets removes low-quality cells and genes from the dataset, which helps reduce noise and computational load in downstream analyses. This filtering step ensures that the dataset is focused on cells and genes with a minimum level of expression, which are more likely to be biologically relevant."
   ]
  },
  {
   "cell_type": "code",
   "execution_count": null,
   "metadata": {},
   "outputs": [],
   "source": [
    "# Cell and gene filtering\n",
    "initial_cells_count = adata.n_obs\n",
    "initial_genes_count = adata.n_vars\n",
    "\n",
    "adata_full = adata.copy()\n",
    "\n",
    "sc.pp.filter_cells(adata, min_counts=30, inplace=True)\n",
    "sc.pp.filter_cells(adata, max_counts=600, inplace=True)\n",
    "sc.pp.filter_cells(adata, min_genes=5, inplace=True)\n",
    "sc.pp.filter_cells(adata, max_genes=150, inplace=True)\n",
    "# sc.pp.filter_genes(adata, min_cells=5, inplace=True) - no genes have less than 5 cells.\n",
    "\n",
    "adata = adata[adata.obs['cell_area']>20,:]\n",
    "adata = adata[adata.obs['cell_area']<1000,:]\n",
    "adata = adata[adata.obs['nucleus_area']>7,:]\n",
    "filtered_cells_count = adata.n_obs\n",
    "filtered_genes_count = adata.n_vars\n",
    "print(f\"Filtered {initial_cells_count - filtered_cells_count} (out of intial {initial_cells_count} cells)\")\n",
    "print(f\"Filtered {initial_genes_count - filtered_genes_count} (out of intial {initial_genes_count} genes)\")"
   ]
  },
  {
   "cell_type": "code",
   "execution_count": null,
   "metadata": {},
   "outputs": [],
   "source": [
    "plt.figure(figsize=(8, 5))\n",
    "sns.histplot(adata.obs['total_counts'], kde=True, bins=50)\n",
    "plt.xlabel(\"Total Transcript Counts per Cell\")\n",
    "plt.ylabel(\"Number of Cells\")\n",
    "plt.title(\"Distribution of Total Transcript Counts per Cell After Filtering\")\n",
    "plt.show()\n",
    "\n",
    "plt.figure(figsize=(8, 5))\n",
    "sns.histplot(adata.obs['nucleus_area'], kde=True, bins=50)\n",
    "plt.xlabel(\"Nucleus Area\")\n",
    "plt.ylabel(\"Number of Cells\")\n",
    "plt.title(\"Distribution of Nucleus Area After Filtering\")\n",
    "plt.show()"
   ]
  },
  {
   "cell_type": "code",
   "execution_count": null,
   "metadata": {},
   "outputs": [],
   "source": [
    "plt.scatter(adata.obs['cell_area'], adata.obs['total_counts'], c=adata.obs['n_genes'],alpha=0.5, cmap='viridis_r')"
   ]
  },
  {
   "cell_type": "code",
   "execution_count": null,
   "metadata": {},
   "outputs": [],
   "source": [
    "sc.pl.highest_expr_genes(adata)\n",
    "\n",
    "# now no gene is 100% of the expression for a cell, but still have genes that make up around 40%"
   ]
  },
  {
   "cell_type": "code",
   "execution_count": null,
   "metadata": {},
   "outputs": [],
   "source": [
    "# Check again n_cell vs total counts after filtering genes, no gene should now be 100%\n",
    "adata.var['n_cell2'] = adata.X.getnnz(axis=0)\n",
    "adata.var['n_count2'] = adata.X.sum(axis=0).A1\n",
    "\n",
    "\n",
    "fig, axs = plt.subplots(2, 2, figsize=(10,8),constrained_layout=True)\n",
    "sns.histplot(adata.var['n_cell2'], kde=True, bins=100, ax = axs[0,0])\n",
    "sns.histplot(adata.var['n_count2'], kde=True, bins=100, ax = axs[0,1])\n",
    "plt.scatter(adata.var['n_count2'], adata.var['n_cell2'], alpha=0.5)"
   ]
  },
  {
   "cell_type": "code",
   "execution_count": null,
   "metadata": {},
   "outputs": [],
   "source": [
    "adata_full.obs['kept'] = adata_full.obs_names.isin(adata.obs_names)\n",
    "sc.pl.spatial(adata_full, color=['kept'], spot_size=15, palette = [\"lightgray\",\"blue\"])\n",
    "sc.pl.spatial(adata_full, color=['kept'], spot_size=15, palette = [\"blue\",\"lightgray\"])"
   ]
  },
  {
   "cell_type": "markdown",
   "metadata": {},
   "source": [
    "## Normaliation and scaling\n",
    "Normalization adjusts for cell-specific technical differences, and log transformation makes the data easier to analyze by reducing the effects of extreme values.\n",
    "This normalization and transformation make the dataset more appropriate for dimensionality reduction, clustering, and other analyses."
   ]
  },
  {
   "cell_type": "markdown",
   "metadata": {},
   "source": [
    "### Using raw counts\n",
    "\n",
    "Test running pca and umap without normalization.\n"
   ]
  },
  {
   "cell_type": "code",
   "execution_count": null,
   "metadata": {},
   "outputs": [],
   "source": [
    "sc.pp.pca(adata)\n",
    "sc.pp.neighbors(adata)\n",
    "sc.tl.leiden(adata)\n",
    "sc.tl.umap(adata)\n",
    "sc.pl.umap(adata, color='leiden', title='UMAP raw counts')\n"
   ]
  },
  {
   "cell_type": "code",
   "execution_count": null,
   "metadata": {},
   "outputs": [],
   "source": [
    "adata.obsm['X_umap_counts'] = adata.obsm['X_umap']\n",
    "adata.obs['leiden_counts'] = adata.obs['leiden']\n"
   ]
  },
  {
   "cell_type": "markdown",
   "metadata": {},
   "source": [
    "### Lognorm"
   ]
  },
  {
   "cell_type": "code",
   "execution_count": null,
   "metadata": {},
   "outputs": [],
   "source": [
    "adata.layers['raw'] = adata.X.copy()\n",
    "sc.pp.normalize_total(adata, target_sum=1e4)\n",
    "sc.pp.log1p(adata)\n"
   ]
  },
  {
   "cell_type": "markdown",
   "metadata": {},
   "source": [
    "Comparing the effect of normalization"
   ]
  },
  {
   "cell_type": "code",
   "execution_count": null,
   "metadata": {},
   "outputs": [],
   "source": [
    "original_counts = adata.layers['raw'].sum(axis=1)\n",
    "normalized_counts = adata.X.sum(axis=1)\n",
    "#plt distributions\n",
    "plt.figure(figsize=(10, 5))\n",
    "sns.histplot(original_counts.A1, color=\"blue\", label=\"Before Normalization\", kde=True) \n",
    "sns.histplot(normalized_counts.A1, color=\"orange\", label=\"After Normalization\", kde=True)\n",
    "plt.xlabel(\"Total Expression per Cell\")\n",
    "plt.ylabel(\"Number of Cells\")\n",
    "plt.title(\"Effect of Normalization on Expression Distribution\")\n",
    "plt.legend()\n",
    "plt.show()"
   ]
  },
  {
   "cell_type": "markdown",
   "metadata": {},
   "source": [
    "How the normalization and scaling of the data affects the distribution of gene expression values in the dataset. We can have a look at the distribution of gene expression values before and after normalization and scaling for Cst3 gene."
   ]
  },
  {
   "cell_type": "code",
   "execution_count": null,
   "metadata": {},
   "outputs": [],
   "source": [
    "gene_name = \"Cst3\"\n",
    "if gene_name in adata.var_names:\n",
    "    #extract Cst3 expression values before normalization\n",
    "    original_mall_expression = adata[:, gene_name].layers['raw'].toarray().flatten()\n",
    "    #and after normalization\n",
    "    normalized_mall_expression = adata[:, gene_name].X.toarray().flatten()\n",
    "    #plt distributions\n",
    "    plt.figure(figsize=(10, 5))\n",
    "    sns.histplot(original_mall_expression, color=\"blue\", label=\"Before Normalization\", kde=True, bins=50)\n",
    "    sns.histplot(normalized_mall_expression, color=\"orange\", label=\"After Normalization\", kde=True, bins=50)\n",
    "    plt.xlabel(f\"{gene_name} Expression\")\n",
    "    plt.ylabel(\"Number of Cells\")\n",
    "    plt.title(f\"Effect of Normalization and Scaling on {gene_name} Expression\")\n",
    "    plt.legend()\n",
    "    plt.show()"
   ]
  },
  {
   "cell_type": "code",
   "execution_count": null,
   "metadata": {},
   "outputs": [],
   "source": [
    "# a more intermediate expression gene.\n",
    "\n",
    "gene_name = \"Sorl1\"\n",
    "if gene_name in adata.var_names:\n",
    "    original_mall_expression = adata[:, gene_name].layers['raw'].toarray().flatten()\n",
    "    normalized_mall_expression = adata[:, gene_name].X.toarray().flatten()\n",
    "    plt.figure(figsize=(10, 5))\n",
    "    sns.histplot(original_mall_expression, color=\"blue\", label=\"Before Normalization\", kde=True, bins=50)\n",
    "    sns.histplot(normalized_mall_expression, color=\"orange\", label=\"After Normalization\", kde=True, bins=50)\n",
    "    plt.xlabel(f\"{gene_name} Expression\")\n",
    "    plt.ylabel(\"Number of Cells\")\n",
    "    plt.title(f\"Effect of Normalization and Scaling on {gene_name} Expression\")\n",
    "    plt.legend()\n",
    "    plt.show()"
   ]
  },
  {
   "cell_type": "code",
   "execution_count": null,
   "metadata": {},
   "outputs": [],
   "source": [
    "# a lowly expression gene.\n",
    "\n",
    "gene_name = \"Th\"\n",
    "if gene_name in adata.var_names:\n",
    "    original_mall_expression = adata[:, gene_name].layers['raw'].toarray().flatten()\n",
    "    normalized_mall_expression = adata[:, gene_name].X.toarray().flatten()\n",
    "    plt.figure(figsize=(10, 5))\n",
    "    sns.histplot(original_mall_expression, color=\"blue\", label=\"Before Normalization\",  bins=50)\n",
    "    sns.histplot(normalized_mall_expression, color=\"orange\", label=\"After Normalization\", bins=50)\n",
    "    plt.xlabel(f\"{gene_name} Expression\")\n",
    "    plt.ylabel(\"Number of Cells\")\n",
    "    plt.title(f\"Effect of Normalization and Scaling on {gene_name} Expression\")\n",
    "    plt.legend()\n",
    "    plt.show()"
   ]
  },
  {
   "cell_type": "code",
   "execution_count": null,
   "metadata": {},
   "outputs": [],
   "source": [
    "fig, axs = plt.subplots(2, 2, figsize=(10,8),constrained_layout=True)\n",
    "\n",
    "axs[0,0].scatter(adata.obs['total_counts'], adata.X.getcol(adata.var.index.tolist().index('Cst3')).toarray(), c=adata.obs['n_genes'],alpha=0.5, cmap='viridis_r')\n",
    "axs[0,0].set_title(\"Cst3 vs Total counts\")\n",
    "\n",
    "axs[0,1].scatter(adata.obs['total_counts'], adata.X.getcol(adata.var.index.tolist().index('Cd69')).toarray(), c=adata.obs['n_genes'],alpha=0.5, cmap='viridis_r')\n",
    "axs[0,1].set_title(\"Cd69 vs Total counts\")\n",
    "\n",
    "axs[1,0].scatter(adata.obs['total_counts'], adata.X.getcol(adata.var.index.tolist().index('Sorl1')).toarray(), c=adata.obs['n_genes'],alpha=0.5, cmap='viridis_r')\n",
    "axs[1,0].set_title(\"Sorl1 vs Total counts\")\n",
    "\n",
    "#adata.var.index.tolist().index('Cst3')\n"
   ]
  },
  {
   "cell_type": "code",
   "execution_count": null,
   "metadata": {},
   "outputs": [],
   "source": [
    "sc.pl.highest_expr_genes(adata)"
   ]
  },
  {
   "cell_type": "code",
   "execution_count": null,
   "metadata": {},
   "outputs": [],
   "source": [
    "sc.pp.pca(adata)\n",
    "sc.pp.neighbors(adata)\n",
    "sc.tl.leiden(adata)\n",
    "sc.tl.umap(adata)\n",
    "sc.pl.umap(adata, color='leiden', title='UMAP lognorm')\n"
   ]
  },
  {
   "cell_type": "code",
   "execution_count": null,
   "metadata": {},
   "outputs": [],
   "source": [
    "adata.obsm['X_umap_lognorm'] = adata.obsm['X_umap']\n",
    "adata.obs['leiden_lognorm'] = adata.obs['leiden']\n",
    "\n",
    "# save the lognorm as its own layer\n",
    "adata.layers['lognorm'] = adata.X.copy()"
   ]
  },
  {
   "cell_type": "markdown",
   "metadata": {},
   "source": [
    "### Scaling\n",
    "\n",
    "Should the data be scaled before running PCA? Get more distinct clusters, but is it closer to biological truth?\n"
   ]
  },
  {
   "cell_type": "code",
   "execution_count": null,
   "metadata": {},
   "outputs": [],
   "source": [
    "sc.pp.scale(adata, max_value=10)"
   ]
  },
  {
   "cell_type": "code",
   "execution_count": null,
   "metadata": {},
   "outputs": [],
   "source": [
    "sc.pp.pca(adata)\n",
    "sc.pp.neighbors(adata)\n",
    "sc.tl.leiden(adata)\n",
    "sc.tl.umap(adata)\n",
    "sc.pl.umap(adata, color='leiden', title='UMAP Scaled')\n"
   ]
  },
  {
   "cell_type": "code",
   "execution_count": null,
   "metadata": {},
   "outputs": [],
   "source": [
    "fig, axs = plt.subplots(2, 2, figsize=(10,8),constrained_layout=True)\n",
    "\n",
    "axs[0,0].scatter(adata.obs['total_counts'], adata.X[:,adata.var.index.tolist().index('Cst3')], c=adata.obs['n_genes'],alpha=0.5, cmap='viridis_r')\n",
    "axs[0,0].set_title(\"Cst3 vs Total counts\")\n",
    "\n",
    "axs[0,1].scatter(adata.obs['total_counts'], adata.X[:,adata.var.index.tolist().index('Cd69')], c=adata.obs['n_genes'],alpha=0.5, cmap='viridis_r')\n",
    "axs[0,1].set_title(\"Cd69 vs Total counts\")\n",
    "\n",
    "axs[1,0].scatter(adata.obs['total_counts'], adata.X[:,adata.var.index.tolist().index('Sorl1')], c=adata.obs['n_genes'],alpha=0.5, cmap='viridis_r')\n",
    "axs[1,0].set_title(\"Sorl1 vs Total counts\")"
   ]
  },
  {
   "cell_type": "code",
   "execution_count": null,
   "metadata": {},
   "outputs": [],
   "source": [
    "adata.obsm['X_umap_scaled'] = adata.obsm['X_umap']\n",
    "adata.obs['leiden_scaled'] = adata.obs['leiden']\n",
    "\n",
    "# save the lognorm as its own layer\n",
    "adata.layers['scaled'] = adata.X.copy()"
   ]
  },
  {
   "cell_type": "markdown",
   "metadata": {},
   "source": [
    "### Pearson residuals normalization\n",
    "\n",
    "As suggested in the Lause et al 2021 https://genomebiology.biomedcentral.com/articles/10.1186/s13059-021-02451-7"
   ]
  },
  {
   "cell_type": "code",
   "execution_count": null,
   "metadata": {},
   "outputs": [],
   "source": [
    "# revert back to counts\n",
    "adata.X = adata.layers['raw'].copy()\n",
    "sc.experimental.pp.normalize_pearson_residuals(adata)\n",
    "#Now the X matrix is an array instead."
   ]
  },
  {
   "cell_type": "code",
   "execution_count": null,
   "metadata": {},
   "outputs": [],
   "source": [
    "sc.pp.pca(adata)\n",
    "sc.pp.neighbors(adata)\n",
    "sc.tl.leiden(adata)\n",
    "sc.tl.umap(adata)\n",
    "sc.pl.umap(adata, color='leiden', title='UMAP pearson R')"
   ]
  },
  {
   "cell_type": "code",
   "execution_count": null,
   "metadata": {},
   "outputs": [],
   "source": [
    "adata.obsm['X_umap_pearson'] = adata.obsm['X_umap']\n",
    "adata.obs['leiden_pearson'] = adata.obs['leiden']\n",
    "\n",
    "adata.layers['pearson'] = adata.X.copy()"
   ]
  },
  {
   "cell_type": "markdown",
   "metadata": {},
   "source": [
    "Select one high, one low and one intermediate expression gene and plot expression distributions."
   ]
  },
  {
   "cell_type": "code",
   "execution_count": null,
   "metadata": {},
   "outputs": [],
   "source": [
    "fig, axs = plt.subplots(2, 2, figsize=(10,8),constrained_layout=True)\n",
    "\n",
    "axs[0,0].scatter(adata.obs['total_counts'], adata.X[:,adata.var.index.tolist().index('Cst3')], c=adata.obs['n_genes'],alpha=0.5, cmap='viridis_r')\n",
    "axs[0,0].set_title(\"Cst3 vs Total counts\")\n",
    "\n",
    "axs[0,1].scatter(adata.obs['total_counts'], adata.X[:,adata.var.index.tolist().index('Cd69')], c=adata.obs['n_genes'],alpha=0.5, cmap='viridis_r')\n",
    "axs[0,1].set_title(\"Cd69 vs Total counts\")\n",
    "\n",
    "axs[1,0].scatter(adata.obs['total_counts'], adata.X[:,adata.var.index.tolist().index('Sorl1')], c=adata.obs['n_genes'],alpha=0.5, cmap='viridis_r')\n",
    "axs[1,0].set_title(\"Sorl1 vs Total counts\")"
   ]
  },
  {
   "cell_type": "code",
   "execution_count": null,
   "metadata": {},
   "outputs": [],
   "source": [
    "sc.pl.highest_expr_genes(adata)"
   ]
  },
  {
   "cell_type": "markdown",
   "metadata": {},
   "source": [
    "### Cell size normalization"
   ]
  },
  {
   "cell_type": "code",
   "execution_count": null,
   "metadata": {},
   "outputs": [],
   "source": [
    "X = adata.layers['raw'].copy()\n",
    "Xnorm = np.divide(X.todense().T, adata.obs['cell_area'].values).T * 1000\n",
    "# need to add a scaling factor?\n",
    "Xnorm = np.log1p(Xnorm)\n",
    "\n",
    "from scipy import sparse\n",
    "\n",
    "adata.X = sparse.csr_matrix(Xnorm.copy())"
   ]
  },
  {
   "cell_type": "code",
   "execution_count": null,
   "metadata": {},
   "outputs": [],
   "source": [
    "sc.pp.pca(adata)\n",
    "sc.pp.neighbors(adata)\n",
    "sc.tl.leiden(adata)\n",
    "sc.tl.umap(adata)\n",
    "sc.pl.umap(adata, color='leiden', title='UMAP size norm')"
   ]
  },
  {
   "cell_type": "code",
   "execution_count": null,
   "metadata": {},
   "outputs": [],
   "source": [
    "fig, axs = plt.subplots(2, 2, figsize=(10,8),constrained_layout=True)\n",
    "\n",
    "axs[0,0].scatter(adata.obs['total_counts'], adata.X.getcol(adata.var.index.tolist().index('Cst3')).toarray(), c=adata.obs['n_genes'],alpha=0.5, cmap='viridis_r')\n",
    "axs[0,0].set_title(\"Cst3 vs Total counts\")\n",
    "\n",
    "axs[0,1].scatter(adata.obs['total_counts'], adata.X.getcol(adata.var.index.tolist().index('Cd69')).toarray(), c=adata.obs['n_genes'],alpha=0.5, cmap='viridis_r')\n",
    "axs[0,1].set_title(\"Cd69 vs Total counts\")\n",
    "\n",
    "axs[1,0].scatter(adata.obs['total_counts'], adata.X.getcol(adata.var.index.tolist().index('Sorl1')).toarray(), c=adata.obs['n_genes'],alpha=0.5, cmap='viridis_r')\n",
    "axs[1,0].set_title(\"Sorl1 vs Total counts\")"
   ]
  },
  {
   "cell_type": "code",
   "execution_count": null,
   "metadata": {},
   "outputs": [],
   "source": [
    "adata.obsm['X_umap_size'] = adata.obsm['X_umap']\n",
    "adata.obs['leiden_size'] = adata.obs['leiden']\n",
    "\n",
    "adata.layers['size'] = adata.X.copy()"
   ]
  },
  {
   "cell_type": "code",
   "execution_count": null,
   "metadata": {},
   "outputs": [],
   "source": [
    "# all with clustering from lognorm coloring.\n",
    "\n",
    "fig, axs = plt.subplots(2, 3, figsize=(10,8),constrained_layout=True)\n",
    "sc.pl.embedding(adata, color='leiden_lognorm', basis='umap_counts', title='umap counts', ax=axs[0,0], show=False, legend_loc='on data')\n",
    "sc.pl.embedding(adata, color='leiden_lognorm', basis='umap_lognorm', title='umap lognorm', ax=axs[0,1], show=False, legend_loc='on data') \n",
    "sc.pl.embedding(adata, color='leiden_lognorm', basis='umap_scaled', title='umap scaled', ax=axs[0,2], show=False, legend_loc='on data')\n",
    "sc.pl.embedding(adata, color='leiden_lognorm', basis='umap_pearson', title='umap pearson', ax=axs[1,0], show=False, legend_loc='on data')\n",
    "sc.pl.embedding(adata, color='leiden_lognorm', basis='umap_size', title='umap size norm', ax=axs[1,1], show=False, legend_loc='on data')\n",
    "sc.pl.embedding(adata, color='leiden_pearson', basis='umap_pearson', title='umap pearson, cl pearson', ax=axs[1,2], show=False, legend_loc='on data')\n",
    "\n"
   ]
  },
  {
   "cell_type": "markdown",
   "metadata": {},
   "source": [
    "lognorm clusters 0,1,5,16 now 0,4,20 with pearson.\n",
    "\n",
    "Cortical layers are 9,3,10,22,8 in lognorm, 12,8,9,17,16,27,30,25 in pearson\n",
    "\n",
    "New pearson clusters  28, 19, 29, 26, 25,30, (pretty much all abouve 25)\n",
    "\n"
   ]
  },
  {
   "cell_type": "code",
   "execution_count": null,
   "metadata": {},
   "outputs": [],
   "source": [
    "# plot all with same colors to make more comparable.\n",
    "\n",
    "sc.pl.spatial(adata, color='leiden_lognorm', spot_size=15, title=\"Lognorm\", palette = adata.uns['leiden_pearson_colors'])\n",
    "sc.pl.spatial(adata, color='leiden_scaled', spot_size=15, title=\"Scaled\", palette = adata.uns['leiden_pearson_colors'])\n",
    "sc.pl.spatial(adata, color='leiden_pearson', spot_size=15, title=\"Pearson\")\n",
    "sc.pl.spatial(adata, color='leiden_size', spot_size=15, title=\"Size\", palette = adata.uns['leiden_pearson_colors'])"
   ]
  },
  {
   "cell_type": "markdown",
   "metadata": {},
   "source": [
    "Better separation of cortical layers with Size or Pearson normalization."
   ]
  },
  {
   "cell_type": "code",
   "execution_count": null,
   "metadata": {},
   "outputs": [],
   "source": [
    "# examine specific clusters that differen between lognorm and pearson\n",
    "\n",
    "clustersL = adata.obs['leiden_lognorm'].cat.categories.tolist()\n",
    "clustersP = adata.obs['leiden_pearson'].cat.categories.tolist()\n",
    "\n",
    "#lognorm clusters 0,15,16 now 0,4,20 with pearson.\n",
    "#New pearson clusters  28, 19, 29, 26, 25,30, (pretty much all abouve 25)\n",
    "\n",
    "fig, axs = plt.subplots(2, 2, figsize=(10,8),constrained_layout=True)\n",
    "sc.pl.spatial(adata[adata.obs['leiden_lognorm'].isin(np.array(clustersL)[[0,15,16]]),:], color='leiden_lognorm', spot_size=15, ax = axs[0,0], show=False, palette = adata.uns['leiden_pearson_colors'])\n",
    "sc.pl.spatial(adata[adata.obs['leiden_pearson'].isin(np.array(clustersP)[[0,4,20]]),:], color='leiden_pearson', spot_size=15, ax = axs[0,1], show=False)\n",
    "\n",
    "sc.pl.spatial(adata[adata.obs['leiden_pearson'].isin(clustersP[25:29]),:], color='leiden_pearson', spot_size=15, ax = axs[1,0], show=False)\n",
    "sc.pl.spatial(adata[adata.obs['leiden_pearson'].isin(clustersP[29:33]),:], color='leiden_pearson', spot_size=15, ax = axs[1,1], show=False)\n",
    "\n",
    "\n"
   ]
  },
  {
   "cell_type": "code",
   "execution_count": null,
   "metadata": {},
   "outputs": [],
   "source": [
    "#Cortical layers are 9,3,10,22,8 in lognorm, 12,8,9,17,16,27,30,25 in pearson\n",
    "fig, axs = plt.subplots(2, 2, figsize=(10,8),constrained_layout=True)\n",
    "sc.pl.spatial(adata[adata.obs['leiden_lognorm'].isin(np.array(clustersL)[[9,3]]),:], color='leiden_lognorm', spot_size=15, ax = axs[0,0], show=False, palette = adata.uns['leiden_pearson_colors'])\n",
    "sc.pl.spatial(adata[adata.obs['leiden_lognorm'].isin(np.array(clustersL)[[10,22,8]]),:], color='leiden_lognorm', spot_size=15, ax = axs[0,1], show=False, palette = adata.uns['leiden_pearson_colors'])\n",
    "\n",
    "sc.pl.spatial(adata[adata.obs['leiden_pearson'].isin(np.array(clustersP)[[12,8,9,17]]),:], color='leiden_pearson', spot_size=15, ax = axs[1,0], show=False)\n",
    "sc.pl.spatial(adata[adata.obs['leiden_pearson'].isin(np.array(clustersP)[[16,27,30,25]]),:], color='leiden_pearson', spot_size=15, ax = axs[1,1], show=False)\n",
    "\n",
    "# cl 22 is a low quality cluster with lognorm"
   ]
  },
  {
   "cell_type": "code",
   "execution_count": null,
   "metadata": {},
   "outputs": [],
   "source": [
    "sc.pl.violin(adata, 'total_counts', groupby='leiden_lognorm')\n",
    "sc.pl.violin(adata, 'total_counts', groupby='leiden_scaled')\n",
    "sc.pl.violin(adata, 'total_counts', groupby='leiden_pearson')\n",
    "sc.pl.violin(adata, 'total_counts', groupby='leiden_size')\n"
   ]
  },
  {
   "cell_type": "markdown",
   "metadata": {},
   "source": []
  },
  {
   "cell_type": "markdown",
   "metadata": {},
   "source": [
    "## Dimensionality reduction"
   ]
  },
  {
   "cell_type": "markdown",
   "metadata": {},
   "source": [
    "We use dimensionality reduction, clustering, and visualization techniques to analyze the structure of our dataset, group similar cells, and visualize their relationships. First, we apply Principal Component Analysis (PCA) to reduce the high-dimensional gene expression data into a smaller set of principal components, retaining the main patterns of variation while reducing noise. Then, we create a neighbors graph, which identifies connections between cells based on their similarity in the reduced PCA space, capturing local relationships essential for clustering. Using the Leiden clustering algorithm, we group cells into clusters based on these connections, allowing us to identify groups of similar cells that may represent distinct cell types or states. We then apply UMAP (Uniform Manifold Approximation and Projection), a technique that reduces the data to two dimensions for visualization, preserving both local and global structures in the data. Finally, we generate a UMAP plot with cells colored by their assigned clusters, providing an overview of the dataset's structure and making it easy to spot distinct cell populations or clusters. This visualization gives us an interpretable view of the relationships within our data, helping us understand its organization before further analysis."
   ]
  },
  {
   "cell_type": "code",
   "execution_count": null,
   "metadata": {},
   "outputs": [],
   "source": [
    "# run for now with scaled.\n",
    "\n",
    "adata.X = adata.layers['scaled'].copy()"
   ]
  },
  {
   "cell_type": "code",
   "execution_count": null,
   "metadata": {},
   "outputs": [],
   "source": [
    "sc.pp.pca(adata)\n",
    "sc.pp.neighbors(adata)\n",
    "sc.tl.leiden(adata)\n",
    "sc.tl.umap(adata)\n"
   ]
  },
  {
   "cell_type": "code",
   "execution_count": null,
   "metadata": {},
   "outputs": [],
   "source": [
    "sc.pl.umap(adata, color='leiden', title='UMAP before filtering suspected false positives', legend_loc='on data')\n",
    "#help(sc.pl.umap)"
   ]
  },
  {
   "cell_type": "code",
   "execution_count": null,
   "metadata": {},
   "outputs": [],
   "source": [
    "sc.pl.spatial(adata, color='leiden', spot_size=15, title=\"Clusters\")"
   ]
  },
  {
   "cell_type": "markdown",
   "metadata": {},
   "source": [
    "We can plot clusters spatially to see if they are localized to specific regions of the tissue, which may indicate spatially distinct cell types or states. This spatial information can provide insights into the organization of cells within the tissue and help identify spatially related cell populations or structures."
   ]
  },
  {
   "cell_type": "code",
   "execution_count": null,
   "metadata": {},
   "outputs": [],
   "source": [
    "clusters = adata.obs['leiden'].cat.categories.tolist()\n",
    "\n",
    "fig, axs = plt.subplots(2, 2, figsize=(10,8),constrained_layout=True)\n",
    "sc.pl.spatial(adata[adata.obs['leiden'].isin(clusters[0:3]),:], color='leiden', spot_size=15, ax = axs[0,0], show=False)\n",
    "sc.pl.spatial(adata[adata.obs['leiden'].isin(clusters[3:6]),:], color='leiden', spot_size=15, ax = axs[0,1], show=False)\n",
    "sc.pl.spatial(adata[adata.obs['leiden'].isin(clusters[6:9]),:], color='leiden', spot_size=15, ax = axs[1,0], show=False)\n",
    "sc.pl.spatial(adata[adata.obs['leiden'].isin(clusters[9:12]),:], color='leiden', spot_size=15, ax = axs[1,1], show=False)"
   ]
  },
  {
   "cell_type": "code",
   "execution_count": null,
   "metadata": {},
   "outputs": [],
   "source": [
    "fig, axs = plt.subplots(2, 2, figsize=(10,8),constrained_layout=True)\n",
    "sc.pl.spatial(adata[adata.obs['leiden'].isin(clusters[12:15]),:], color='leiden', spot_size=15, ax = axs[0,0], show=False)\n",
    "sc.pl.spatial(adata[adata.obs['leiden'].isin(clusters[15:18]),:], color='leiden', spot_size=15, ax = axs[0,1], show=False)\n",
    "sc.pl.spatial(adata[adata.obs['leiden'].isin(clusters[18:21]),:], color='leiden', spot_size=15, ax = axs[1,0], show=False)\n",
    "sc.pl.spatial(adata[adata.obs['leiden'].isin(clusters[21:24]),:], color='leiden', spot_size=15, ax = axs[1,1], show=False)"
   ]
  },
  {
   "cell_type": "code",
   "execution_count": null,
   "metadata": {},
   "outputs": [],
   "source": [
    "fig, axs = plt.subplots(2, 2, figsize=(10,8),constrained_layout=True)\n",
    "sc.pl.spatial(adata[adata.obs['leiden'].isin(clusters[24:27]),:], color='leiden', spot_size=15, ax = axs[0,0], show=False)\n",
    "sc.pl.spatial(adata[adata.obs['leiden'].isin(clusters[27:30]),:], color='leiden', spot_size=15, ax = axs[0,1], show=False)\n",
    "sc.pl.spatial(adata[adata.obs['leiden'].isin(clusters[30:33]),:], color='leiden', spot_size=15, ax = axs[1,0], show=False)\n"
   ]
  },
  {
   "cell_type": "markdown",
   "metadata": {},
   "source": [
    "Using vioilin plots to see how the clusters are distributed in terms of gene expression (number of genes and the total counts) and cell size (cell and nucleus area). This helps us understand the characteristics of each cluster in terms of gene expression levels, cell size, and other features, providing insights into the biological properties of each cluster."
   ]
  },
  {
   "cell_type": "code",
   "execution_count": null,
   "metadata": {},
   "outputs": [],
   "source": [
    "sc.pl.violin(adata, [\"total_counts\",\"n_genes\"], groupby='leiden')\n",
    "sc.pl.violin(adata, [\"nucleus_area\",\"cell_area\"], groupby='leiden')"
   ]
  },
  {
   "cell_type": "markdown",
   "metadata": {},
   "source": [
    "Explore QC a bit more"
   ]
  },
  {
   "cell_type": "code",
   "execution_count": null,
   "metadata": {},
   "outputs": [],
   "source": [
    "fig, axs = plt.subplots(2, 2, figsize=(10,8),constrained_layout=True)\n",
    "sc.pl.umap(adata, color='total_counts', show=False, ax = axs[0,0])\n",
    "sc.pl.umap(adata, color='n_genes', show=False, ax = axs[0,1])\n",
    "sc.pl.umap(adata, color='nucleus_area', show=False, ax = axs[1,0])\n",
    "sc.pl.umap(adata, color='cell_area', show=False, ax = axs[1,1])"
   ]
  },
  {
   "cell_type": "markdown",
   "metadata": {},
   "source": [
    "## Systematic Filtering of Suspected False Positives\n",
    "In Xenium data, some genes may appear to be \"expressed\" across large areas or in many cells due to background noise or technical artifacts, rather than true biological expression. To address this, we are implementing a gene-specific filtering approach to identify and remove suspected false positives systematically. By filtering out these spurious signals, we can focus our analysis on more reliable gene expression patterns, improving the quality of downstream analyses."
   ]
  },
  {
   "cell_type": "markdown",
   "metadata": {},
   "source": [
    "#### 1- Calculate the Mean Expression per Gene per Cluster\n",
    "In the first step, we calculate the mean expression of each gene within each cluster. Clustering organizes cells into groups that likely share biological characteristics, and taking the average expression of each gene within clusters provides a baseline for typical expression levels. This allows us to identify clusters where a gene has unusually low expression, which might indicate noise rather than true expression."
   ]
  },
  {
   "cell_type": "code",
   "execution_count": null,
   "metadata": {},
   "outputs": [],
   "source": [
    "mean_expression = adata.to_df().groupby(adata.obs['leiden']).mean()"
   ]
  },
  {
   "cell_type": "markdown",
   "metadata": {},
   "source": [
    "#### 2- Determine the Maximum Expression Level of Each Gene Across Clusters\n",
    "Then, we find the maximum expression level for each gene across all clusters. This maximum value serves as a reference point for each gene’s typical expression level in the dataset. The highest expression level of each gene is assumed to represent meaningful expression, while lower values may be more likely to represent noise or background."
   ]
  },
  {
   "cell_type": "code",
   "execution_count": null,
   "metadata": {},
   "outputs": [],
   "source": [
    "max_expression_levels = mean_expression.max(axis=0)"
   ]
  },
  {
   "cell_type": "markdown",
   "metadata": {},
   "source": [
    "#### 3- Calculate Spurious Expression Threshold for Each Gene\n",
    "We define a threshold, here set at 5%, which will be used to identify potential false positives. This threshold means that if a gene's expression in a given cluster is below 5% of its highest expression level across all clusters, we will consider it to be a likely false positive. This step allows us to systematically identify clusters where the gene's expression is likely due to background noise rather than true biological signal. Then, we calculate a `spurious expression threshold` for each gene, which is 5% of its maximum expression level. This threshold provides a cut-off below which we consider expression values to be suspected false positives. By applying this threshold, we can filter out clusters where a gene’s expression level is unlikely to be biologically meaningful."
   ]
  },
  {
   "cell_type": "code",
   "execution_count": null,
   "metadata": {},
   "outputs": [],
   "source": [
    "threshold = 0.05\n",
    "spurious_expression_threshold = max_expression_levels * threshold"
   ]
  },
  {
   "cell_type": "code",
   "execution_count": null,
   "metadata": {},
   "outputs": [],
   "source": [
    "# plot distribution for first few genes.\n",
    "for gene in adata.var_names[:10]: \n",
    "    cut = spurious_expression_threshold[gene]\n",
    "    fig, axs = plt.subplots(1, 2, figsize=(8,4),constrained_layout=True)\n",
    "    sc.pl.violin(adata, gene, groupby='leiden', use_raw=False, ax=axs[0], show=False, ylabel = str(cut))\n",
    "    sns.barplot(mean_expression[gene], ax=axs[1])\n",
    "    plt.axhline(y=cut, color='black')\n",
    "    print(gene, \":\",cut)\n"
   ]
  },
  {
   "cell_type": "markdown",
   "metadata": {},
   "source": [
    "#### 4- Identify Suspected False Positives for Each Cluster and Gene\n",
    "Next we creat a dictionary, `suspected_false_positives`, to store suspected false positive genes for each cluster.\n",
    "For each cluster, it checks each gene’s mean expression level within that cluster. If the gene's mean expression is below the spurious expression threshold (5% of its maximum expression), the gene is flagged as a suspected false positive in that cluster."
   ]
  },
  {
   "cell_type": "code",
   "execution_count": null,
   "metadata": {},
   "outputs": [],
   "source": [
    "suspected_false_positives = {}\n",
    "for cluster in mean_expression.index:\n",
    "    suspected_genes = []\n",
    "    for gene in adata.var_names:\n",
    "        if mean_expression.at[cluster, gene] < spurious_expression_threshold[gene]:\n",
    "            suspected_genes.append(gene)\n",
    "    suspected_false_positives[cluster] = suspected_genes"
   ]
  },
  {
   "cell_type": "markdown",
   "metadata": {},
   "source": [
    "Now we can see a quick summary of the suspected false positives across clusters"
   ]
  },
  {
   "cell_type": "code",
   "execution_count": null,
   "metadata": {},
   "outputs": [],
   "source": [
    "#Showing first 10 genes for brevity\n",
    "for cluster, genes in suspected_false_positives.items():\n",
    "    print(f\"Cluster {cluster} has {len(genes)} suspected false positive genes: {genes[:10]}\")\n",
    "\n",
    "cluster_counts = {cluster: len(genes) for cluster, genes in suspected_false_positives.items()}\n",
    "clusters = list(cluster_counts.keys())\n",
    "counts = list(cluster_counts.values())\n",
    "plt.figure(figsize=(12, 6))\n",
    "sns.barplot(x=clusters, y=counts, palette='viridis')\n",
    "plt.title('Count of Suspected False Positive Genes per Cluster')\n",
    "plt.xlabel('Cluster')\n",
    "plt.ylabel('Count of Suspected False Positive Genes')\n",
    "plt.xticks(rotation=45)\n",
    "plt.show()\n"
   ]
  },
  {
   "cell_type": "markdown",
   "metadata": {},
   "source": [
    "Clusters 8,14,20,21 have very small cell areas. 8 also small nucleus area, small number of genes and counts.\n",
    "Clusters 14,20,21 has the highest number of FP genes. \n",
    "\n",
    "Due to low numbers mainly?\n",
    "\n",
    "Clusters in tissue:"
   ]
  },
  {
   "cell_type": "code",
   "execution_count": null,
   "metadata": {},
   "outputs": [],
   "source": [
    "#sc.pl.spatial(adata, color='n_genes')\n",
    "sc.pl.spatial(adata, color=['cell_area','nucleus_area'], spot_size=15, title=\"Cell Area\", color_map = \"viridis_r\")\n",
    "sc.pl.spatial(adata, color=['total_counts','n_genes'], spot_size=15, title=\"Cell Area\", color_map = \"viridis_r\")\n",
    "\n",
    "sc.pl.spatial(adata, color='leiden', spot_size=15, title=\"Clusters\")"
   ]
  },
  {
   "cell_type": "code",
   "execution_count": null,
   "metadata": {},
   "outputs": [],
   "source": [
    "all_suspected_fp_genes = set()\n",
    "for genes in suspected_false_positives.values():\n",
    "    all_suspected_fp_genes.update(genes)\n",
    "all_suspected_fp_genes_list = sorted(all_suspected_fp_genes)\n",
    "clusters = list(suspected_false_positives.keys())\n",
    "heatmap_data = pd.DataFrame(0, index=list(all_suspected_fp_genes_list), columns=clusters)\n",
    "\n",
    "for cluster, genes in suspected_false_positives.items():\n",
    "    heatmap_data.loc[genes, cluster] = 1\n",
    "\n",
    "plt.figure(figsize=(12, 10))\n",
    "sns.heatmap(heatmap_data, cmap=\"viridis\", cbar_kws={'label': 'Presence of Suspected False Positives'})\n",
    "plt.title(\"Heatmap of Suspected False Positive Genes Across Clusters\")\n",
    "plt.xlabel(\"Cluster\")\n",
    "plt.ylabel(\"Gene\")\n",
    "plt.show()"
   ]
  },
  {
   "cell_type": "code",
   "execution_count": null,
   "metadata": {},
   "outputs": [],
   "source": [
    "background_noise_counts = {gene: 0 for gene in adata.var_names}\n",
    "for gene in adata.var_names:\n",
    "    for cluster in mean_expression.index:\n",
    "        if mean_expression.at[cluster, gene] < spurious_expression_threshold[gene]:\n",
    "            background_noise_counts[gene] += 1\n",
    "\n",
    "# Find the gene with the highest background noise\n",
    "highest_noise_gene = max(background_noise_counts, key=background_noise_counts.get)\n",
    "highest_noise_count = background_noise_counts[highest_noise_gene]\n",
    "\n",
    "print(f\"The gene with the highest background noise is '{highest_noise_gene}', detected below the threshold in {highest_noise_count} clusters.\")\n"
   ]
  },
  {
   "cell_type": "markdown",
   "metadata": {},
   "source": [
    "#### 5- Adjusting gene expression values across the dataset (background noise reduction)\n",
    "Now, we aim to reduce background noise by adjusting gene expression levels across all cells based on suspected false positives. Specifically, if a gene has low expression (below the spurious expression threshold) in any cluster, we take the highest of those low expression levels and subtract it from all cells for that gene. This method removes unspecific, potentially spurious expression, which can help improve cluster separation and make biologically relevant expression patterns clearer."
   ]
  },
  {
   "cell_type": "code",
   "execution_count": null,
   "metadata": {},
   "outputs": [],
   "source": [
    "adata_app_1 = adata.copy()\n",
    "\n",
    "max_filtered_expression = {}\n",
    "adata_df = adata_app_1.to_df()\n",
    "\n",
    "for gene in adata_app_1.var_names:\n",
    "    below_threshold_values = []\n",
    "    for cluster in mean_expression.index:\n",
    "        expression_level = mean_expression.at[cluster, gene]\n",
    "        if expression_level < spurious_expression_threshold[gene]:\n",
    "            below_threshold_values.append(expression_level)\n",
    "            \n",
    "    if below_threshold_values:\n",
    "        max_filtered_expression[gene] = max(below_threshold_values)\n",
    "    else:\n",
    "        max_filtered_expression[gene] = 0  \n",
    "        #no values below threshold = no subtraction needed\n",
    "\n",
    "#subtract the maximum filtered expression value from all cells for each gene\n",
    "for gene in adata_app_1.var_names:\n",
    "    max_expr = max_filtered_expression[gene]\n",
    "    if max_expr > 0:\n",
    "        adata_df[gene] -= max_expr\n",
    "        #ensure that no negative values are introduced\n",
    "        adata_df[gene] = np.maximum(adata_df[gene], 0)\n",
    "\n",
    "#update AnnData object with adjusted gene expressions\n",
    "adata_app_1 = sc.AnnData(X=adata_df.values, obs=adata_app_1.obs, var=adata_app_1.var, obsm=adata_app_1.obsm)\n",
    "sc.pp.pca(adata_app_1)\n",
    "sc.pp.neighbors(adata_app_1)\n",
    "sc.tl.leiden(adata_app_1)\n",
    "sc.tl.umap(adata_app_1)\n",
    "\n"
   ]
  },
  {
   "cell_type": "code",
   "execution_count": null,
   "metadata": {},
   "outputs": [],
   "source": [
    "adata_app_1.obs[\"old_clust\"] = adata.obs['leiden']\n",
    "adata.obs[\"new_clust\"] = adata_app_1.obs['leiden']\n",
    "fig, axs = plt.subplots(2, 2, figsize=(10,8),constrained_layout=True)\n",
    "sc.pl.umap(adata_app_1, color='leiden', title='UMAP after filtering, clusters after filtering', ax=axs[0,0], show=False)\n",
    "sc.pl.umap(adata_app_1, color='old_clust', title='UMAP after filtering, clusters before filtering', ax=axs[0,1], show=False)\n",
    "sc.pl.umap(adata, color='new_clust', title='UMAP before filtering, clusters after filtering', ax=axs[1,0], show=False)\n",
    "sc.pl.umap(adata, color='leiden', title='UMAP before filtering, clusters before filtering', ax=axs[1,1], show=False)\n",
    "\n"
   ]
  },
  {
   "cell_type": "markdown",
   "metadata": {},
   "source": [
    "Mainly cluster 11 clearly moves from middle part to top left. "
   ]
  },
  {
   "cell_type": "code",
   "execution_count": null,
   "metadata": {},
   "outputs": [],
   "source": [
    "normalized_counts1 = adata.X.sum(axis=1)\n",
    "normalized_counts2 = adata_app_1.X.sum(axis=1)\n",
    "\n",
    "plt.figure(figsize=(8, 6))\n",
    "plt.scatter(np.array(normalized_counts1), normalized_counts2, alpha=0.5)\n",
    "plt.xlabel(\"Sum expression before filtering\")\n",
    "plt.ylabel(\"Sum expression after filtering\")\n",
    "plt.title(\"Expression sum after filtering\")\n",
    "plt.show()"
   ]
  },
  {
   "cell_type": "code",
   "execution_count": null,
   "metadata": {},
   "outputs": [],
   "source": [
    "gene_of_interest = \"Vip\"\n",
    "sc.pl.spatial(adata, color=[gene_of_interest], spot_size=15, title=f'{gene_of_interest} Expression Before Adjustment', color_map='viridis_r')\n",
    "sc.pl.spatial(adata_app_1, color=[gene_of_interest], spot_size=15, title=f'{gene_of_interest} Expression After Adjustment', color_map = 'viridis_r')"
   ]
  },
  {
   "cell_type": "code",
   "execution_count": null,
   "metadata": {},
   "outputs": [],
   "source": [
    "original_expression = adata.to_df()[gene_of_interest]\n",
    "adjusted_expression = adata_app_1.to_df()[gene_of_interest]\n",
    "\n",
    "plt.figure(figsize=(10, 5))\n",
    "sns.kdeplot(original_expression, label=\"Original\", color=\"blue\")\n",
    "sns.kdeplot(adjusted_expression, label=\"Adjusted\", color=\"orange\")\n",
    "plt.xlabel(f'Expression of {gene_of_interest}')\n",
    "plt.ylabel('Density')\n",
    "plt.title(f'Expression Distribution of {gene_of_interest} Before and After Adjustment')\n",
    "plt.legend()\n",
    "plt.show()"
   ]
  },
  {
   "cell_type": "code",
   "execution_count": null,
   "metadata": {},
   "outputs": [],
   "source": [
    "# Calculate mean expression per gene\n",
    "mean_expression_original = adata.to_df().mean(axis=0)\n",
    "mean_expression_adjusted = adata_app_1.to_df().mean(axis=0)\n",
    "\n",
    "# Plot a scatter plot comparing mean expression before and after adjustment\n",
    "plt.figure(figsize=(8, 8))\n",
    "plt.scatter(mean_expression_original, mean_expression_adjusted, alpha=0.5)\n",
    "plt.plot([0, max(mean_expression_original)], [0, max(mean_expression_adjusted)], color=\"red\", linestyle=\"--\")\n",
    "plt.xlabel('Mean Expression (Original)')\n",
    "plt.ylabel('Mean Expression (Adjusted)')\n",
    "plt.title('Mean Gene Expression Before and After Adjustment')\n",
    "plt.show()"
   ]
  },
  {
   "cell_type": "markdown",
   "metadata": {},
   "source": [
    "### Second approach\n",
    "Check the histogram of the gene expression for every gene and if it has a multimodal expression distribution to set based on that histogram a thereshold below which we consider the expression to be background. And we could remove from all cells the expression below that therahold.\n",
    "First making helper functions performing dip test and plotting the histogram of the gene expression.\n",
    "I've used dip test to check if the distribution is multimodal or not. If the p-value is smaller than 0.05 we consider the distribution to be multimodal.\n",
    "A question here would be that should we only consider non-zero expression values for this analysis or should we consider all expression values? If consider all values we might get a multimodal distribution all for genes, however if we only consider non-zero values we might miss some genes that are suspected to have multimodal distribution. What do you think?"
   ]
  },
  {
   "cell_type": "code",
   "execution_count": null,
   "metadata": {},
   "outputs": [],
   "source": [
    "genes_to_analyze = adata.var_names[0:len(adata.var_names)]\n",
    "thresholds = {}\n",
    "for gene in genes_to_analyze:\n",
    "    threshold = hf.analyze_gene_expressions(adata, gene, bandwidth=0.05, plot=False, filter_zeros=False)\n",
    "    if threshold is not None:\n",
    "        thresholds[gene] = threshold"
   ]
  },
  {
   "cell_type": "markdown",
   "metadata": {},
   "source": [
    "Sort genes by threshold values in descending order and display the top genes with the highest thresholds\n"
   ]
  },
  {
   "cell_type": "code",
   "execution_count": null,
   "metadata": {},
   "outputs": [],
   "source": [
    "sorted_thresholds = sorted(thresholds.items(), key=lambda x: x[1], reverse=True)\n",
    "print(\"Top genes with the highest thresholds:\")\n",
    "for gene, threshold_value in sorted_thresholds[:10]:\n",
    "    print(f\"{gene}: {threshold_value}\")"
   ]
  },
  {
   "cell_type": "code",
   "execution_count": null,
   "metadata": {},
   "outputs": [],
   "source": [
    "gene_of_interest = \"Calb1\"\n",
    "hf.analyze_gene_expressions(adata, gene_of_interest, bandwidth=0.05, plot=True, filter_zeros=False)"
   ]
  },
  {
   "cell_type": "code",
   "execution_count": null,
   "metadata": {},
   "outputs": [],
   "source": [
    "adata.X = adata.layers['lognorm'].copy()\n",
    "gene_of_interest = \"Calb1\"\n",
    "hf.analyze_gene_expressions(adata, gene_of_interest, bandwidth=0.05, plot=True, filter_zeros=False)"
   ]
  },
  {
   "cell_type": "code",
   "execution_count": null,
   "metadata": {},
   "outputs": [],
   "source": [
    "adata.X = adata.layers['scaled'].copy()\n",
    "gene_of_interest = \"Calb1\"\n",
    "hf.analyze_gene_expressions(adata, gene_of_interest, bandwidth=0.05, plot=True, filter_zeros=False)"
   ]
  },
  {
   "cell_type": "code",
   "execution_count": null,
   "metadata": {},
   "outputs": [],
   "source": [
    "adata.X = adata.layers['pearson'].copy()\n",
    "gene_of_interest = \"Calb1\"\n",
    "hf.analyze_gene_expressions(adata, gene_of_interest, bandwidth=0.05, plot=True, filter_zeros=False)"
   ]
  },
  {
   "cell_type": "code",
   "execution_count": null,
   "metadata": {},
   "outputs": [],
   "source": [
    "adata.X = adata.layers['size'].copy()\n",
    "gene_of_interest = \"Calb1\"\n",
    "hf.analyze_gene_expressions(adata, gene_of_interest, bandwidth=0.05, plot=True, filter_zeros=False)"
   ]
  },
  {
   "cell_type": "markdown",
   "metadata": {},
   "source": [
    "Now we can do the subtraction of genes with a background expression from their original values in each cell."
   ]
  },
  {
   "cell_type": "code",
   "execution_count": null,
   "metadata": {},
   "outputs": [],
   "source": [
    "# 1. Reverse the log1p transformation on adata.X\n",
    "adata_app_2 = adata.copy()\n",
    "if sp.issparse(adata_app_2.X):\n",
    "    adata_app_2.X = sp.csr_matrix(np.expm1(adata_app_2.X.toarray()))\n",
    "else:\n",
    "    adata_app_2.X = np.expm1(adata_app_2.X)\n",
    "\n",
    "# 2. Reverse the log1p transformation on thresholds\n",
    "thresholds = {gene: np.expm1(thresh) for gene, thresh in thresholds.items()}\n",
    "\n",
    "# 3. Perform the subtraction and ensure non-negative values\n",
    "for gene, threshold in thresholds.items():\n",
    "    if gene in adata_app_2.var_names:  # Ensure the gene exists in adata\n",
    "        gene_index = adata_app_2.var_names.get_loc(gene)\n",
    "        \n",
    "        # Extract the column as a dense numpy array\n",
    "        gene_data = adata_app_2[:, gene].X\n",
    "        if sp.issparse(gene_data):\n",
    "            gene_data = gene_data.toarray().flatten()\n",
    "\n",
    "        # Perform the subtraction and ensure non-negative values\n",
    "        updated_gene_data = np.maximum(gene_data - threshold, 0)\n",
    "\n",
    "        # Update the AnnData object\n",
    "        if sp.issparse(adata_app_2.X):\n",
    "            adata_app_2[:, gene_index].X = sp.csr_matrix(updated_gene_data[:, np.newaxis])\n",
    "        else:\n",
    "            adata_app_2[:, gene_index].X = updated_gene_data[:, np.newaxis]\n",
    "\n",
    "# 4. Reapply the log1p transformation\n",
    "sc.pp.log1p(adata_app_2)"
   ]
  },
  {
   "cell_type": "code",
   "execution_count": null,
   "metadata": {},
   "outputs": [],
   "source": [
    "gene_of_interest = \"Calb1\"\n",
    "\n",
    "sc.pl.spatial(adata, color=[gene_of_interest], spot_size=10, title=f'{gene_of_interest} Expression Before Adjustment', color_map = 'viridis_r')\n",
    "sc.pl.spatial(adata_app_2, color=[gene_of_interest], spot_size=10, title=f'{gene_of_interest} Expression After Adjustment', color_map = 'viridis_r')"
   ]
  },
  {
   "cell_type": "code",
   "execution_count": null,
   "metadata": {},
   "outputs": [],
   "source": [
    "original_expression = adata.to_df()[gene_of_interest]\n",
    "adjusted_expression = adata_app_2.to_df()[gene_of_interest]\n",
    "\n",
    "# Plot expression distributions\n",
    "plt.figure(figsize=(10, 5))\n",
    "sns.kdeplot(original_expression, label=\"Original\", color=\"blue\")\n",
    "sns.kdeplot(adjusted_expression, label=\"Adjusted\", color=\"orange\")\n",
    "plt.xlabel(f'Expression of {gene_of_interest}')\n",
    "plt.ylabel('Density')\n",
    "plt.title(f'Expression Distribution of {gene_of_interest} Before and After Adjustment')\n",
    "plt.legend()\n",
    "plt.show()\n"
   ]
  },
  {
   "cell_type": "code",
   "execution_count": null,
   "metadata": {},
   "outputs": [],
   "source": [
    "# Principal component analysis for dimension reduction\n",
    "sc.pp.pca(adata_app_2)\n",
    "sc.pp.neighbors(adata_app_2)\n",
    "sc.tl.leiden(adata_app_2)\n",
    "sc.tl.umap(adata_app_2)\n",
    "sc.pl.umap(adata_app_2, color='leiden', title='UMAP after filtering suspected false positives (approach 2)')"
   ]
  }
 ],
 "metadata": {
  "kernelspec": {
   "display_name": "p1_qc_normalization",
   "language": "python",
   "name": "p1_qc_normalization"
  },
  "language_info": {
   "codemirror_mode": {
    "name": "ipython",
    "version": 3
   },
   "file_extension": ".py",
   "mimetype": "text/x-python",
   "name": "python",
   "nbconvert_exporter": "python",
   "pygments_lexer": "ipython3",
   "version": "3.9.21"
  }
 },
 "nbformat": 4,
 "nbformat_minor": 4
}
