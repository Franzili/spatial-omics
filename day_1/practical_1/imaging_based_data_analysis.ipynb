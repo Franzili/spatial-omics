{
 "cells": [
  {
   "cell_type": "markdown",
   "metadata": {},
   "source": [
    "# Practical 1: Imaging-Based Data Analysis with Xenium (Mouse Brain, Cancer)\n",
    "### Author: Rasool Saghaleyni"
   ]
  },
  {
   "cell_type": "code",
   "execution_count": 3,
   "metadata": {},
   "outputs": [
    {
     "name": "stderr",
     "output_type": "stream",
     "text": [
      "  % Total    % Received % Xferd  Average Speed   Time    Time     Time  Current\n",
      "                                 Dload  Upload   Total   Spent    Left  Speed\n",
      "100 1135M  100 1135M    0     0  35.6M      0  0:00:31  0:00:31 --:--:-- 37.8M\n",
      "  % Total    % Received % Xferd  Average Speed   Time    Time     Time  Current\n",
      "                                 Dload  Upload   Total   Spent    Left  Speed\n",
      "100   126  100   126    0     0    817      0 --:--:-- --:--:-- --:--:--   818\n",
      "  % Total    % Received % Xferd  Average Speed   Time    Time     Time  Current\n",
      "                                 Dload  Upload   Total   Spent    Left  Speed\n",
      "100 7617M  100 7617M    0     0  36.3M      0  0:03:29  0:03:29 --:--:-- 35.4M\n"
     ]
    },
    {
     "name": "stdout",
     "output_type": "stream",
     "text": [
      "Archive:  data/Xenium_V1_humanLung_Cancer_FFPE_outs.zip\n",
      " extracting: data/xenium_2.0.0_io/analysis.zarr.zip  \n",
      "  inflating: data/xenium_2.0.0_io/cell_boundaries.csv.gz  \n",
      "  inflating: data/xenium_2.0.0_io/cell_boundaries.parquet  \n",
      "  inflating: data/xenium_2.0.0_io/cell_feature_matrix.h5  \n",
      " extracting: data/xenium_2.0.0_io/cell_feature_matrix.zarr.zip  \n",
      "  inflating: data/xenium_2.0.0_io/cells.csv.gz  \n",
      "  inflating: data/xenium_2.0.0_io/cells.parquet  \n",
      " extracting: data/xenium_2.0.0_io/cells.zarr.zip  \n",
      "  inflating: data/xenium_2.0.0_io/experiment.xenium  \n",
      "  inflating: data/xenium_2.0.0_io/gene_panel.json  \n",
      "  inflating: data/xenium_2.0.0_io/metrics_summary.csv  \n",
      "  inflating: data/xenium_2.0.0_io/nucleus_boundaries.csv.gz  \n",
      "  inflating: data/xenium_2.0.0_io/nucleus_boundaries.parquet  \n",
      "  inflating: data/xenium_2.0.0_io/transcripts.csv.gz  \n",
      "  inflating: data/xenium_2.0.0_io/transcripts.parquet  \n",
      " extracting: data/xenium_2.0.0_io/transcripts.zarr.zip  \n",
      "  inflating: data/xenium_2.0.0_io/analysis_summary.html  \n",
      "  inflating: data/xenium_2.0.0_io/morphology.ome.tif  \n",
      "  inflating: data/xenium_2.0.0_io/analysis.tar.gz  \n",
      "  inflating: data/xenium_2.0.0_io/aux_outputs.tar.gz  \n",
      "  inflating: data/xenium_2.0.0_io/cell_feature_matrix.tar.gz  \n",
      "   creating: data/xenium_2.0.0_io/morphology_focus/\n",
      "  inflating: data/xenium_2.0.0_io/morphology_focus/morphology_focus_0000.ome.tif  \n",
      "  inflating: data/xenium_2.0.0_io/morphology_focus/morphology_focus_0001.ome.tif  \n",
      "  inflating: data/xenium_2.0.0_io/morphology_focus/morphology_focus_0002.ome.tif  \n",
      "  inflating: data/xenium_2.0.0_io/morphology_focus/morphology_focus_0003.ome.tif  \n"
     ]
    },
    {
     "data": {
      "text/plain": [
       "CompletedProcess(args='unzip -o data/Xenium_V1_humanLung_Cancer_FFPE_outs.zip -d data/xenium_2.0.0_io', returncode=0)"
      ]
     },
     "execution_count": 3,
     "metadata": {},
     "output_type": "execute_result"
    }
   ],
   "source": [
    "##\n",
    "import os\n",
    "from pathlib import Path\n",
    "import subprocess\n",
    "\n",
    "urls = [\n",
    "    \"https://cf.10xgenomics.com/samples/xenium/2.0.0/Xenium_V1_humanLung_Cancer_FFPE/Xenium_V1_humanLung_Cancer_FFPE_he_image.ome.tif\",\n",
    "    \"https://cf.10xgenomics.com/samples/xenium/2.0.0/Xenium_V1_humanLung_Cancer_FFPE/Xenium_V1_humanLung_Cancer_FFPE_he_imagealignment.csv\",\n",
    "    \"https://cf.10xgenomics.com/samples/xenium/2.0.0/Xenium_V1_humanLung_Cancer_FFPE/Xenium_V1_humanLung_Cancer_FFPE_outs.zip\",\n",
    "]\n",
    "\n",
    "##\n",
    "# download the data\n",
    "for url in urls:\n",
    "    filename = Path(url).name\n",
    "    os.makedirs(\"data\", exist_ok=True)\n",
    "    command = f\"curl -o {'data/' + filename} {url}\"\n",
    "    subprocess.run(command, shell=True, check=True)\n",
    "\n",
    "# ##\n",
    "# unzip the data\n",
    "subprocess.run(\n",
    "    f\"unzip -o data/Xenium_V1_humanLung_Cancer_FFPE_outs.zip -d data/xenium_2.0.0_io\",\n",
    "    shell=True,\n",
    "    check=True,\n",
    ")"
   ]
  },
  {
   "cell_type": "code",
   "execution_count": 8,
   "metadata": {},
   "outputs": [
    {
     "name": "stdout",
     "output_type": "stream",
     "text": [
      "Reading data from: /Users/rasools/Library/CloudStorage/OneDrive-Chalmers/Documents/github/ELIXIR-SCO-spatial-transcriptomics/day_1/practical_1/data/xenium_2.0.0_io\n",
      "Writing data to: /Users/rasools/Library/CloudStorage/OneDrive-Chalmers/Documents/github/ELIXIR-SCO-spatial-transcriptomics/day_1/practical_1/data.zarr\n",
      "Parsing the data... \u001b[34mINFO    \u001b[0m reading                                                                                                   \n",
      "         \u001b[35m/Users/rasools/Library/CloudStorage/OneDrive-Chalmers/Documents/github/ELIXIR-SCO-spatial-transcriptomics/\u001b[0m\n",
      "         \u001b[35mday_1/practical_1/data/xenium_2.0.0_io/\u001b[0m\u001b[95mcell_feature_matrix.h5\u001b[0m                                             \n"
     ]
    },
    {
     "name": "stderr",
     "output_type": "stream",
     "text": [
      "/var/folders/8l/yj6nz8296zd7wwj0xy6pw3880000gn/T/ipykernel_2082/1897399642.py:22: DeprecationWarning: `cell_boundaries` is being deprecated as an argument to `xenium.xenium` in SpatialData version 0.1, switch to `cells_boundaries` instead.\n",
      "  sdata = xenium(\n"
     ]
    },
    {
     "ename": "TypeError",
     "evalue": "to_spatial_image() got an unexpected keyword argument 'rgb'",
     "output_type": "error",
     "traceback": [
      "\u001b[0;31m---------------------------------------------------------------------------\u001b[0m",
      "\u001b[0;31mTypeError\u001b[0m                                 Traceback (most recent call last)",
      "Cell \u001b[0;32mIn[8], line 22\u001b[0m\n\u001b[1;32m     20\u001b[0m \u001b[38;5;66;03m# Parsing the data\u001b[39;00m\n\u001b[1;32m     21\u001b[0m \u001b[38;5;28mprint\u001b[39m(\u001b[38;5;124m\"\u001b[39m\u001b[38;5;124mParsing the data... \u001b[39m\u001b[38;5;124m\"\u001b[39m, end\u001b[38;5;241m=\u001b[39m\u001b[38;5;124m\"\u001b[39m\u001b[38;5;124m\"\u001b[39m)\n\u001b[0;32m---> 22\u001b[0m sdata \u001b[38;5;241m=\u001b[39m \u001b[43mxenium\u001b[49m\u001b[43m(\u001b[49m\n\u001b[1;32m     23\u001b[0m \u001b[43m    \u001b[49m\u001b[43mpath\u001b[49m\u001b[38;5;241;43m=\u001b[39;49m\u001b[38;5;28;43mstr\u001b[39;49m\u001b[43m(\u001b[49m\u001b[43mpath_read\u001b[49m\u001b[43m)\u001b[49m\u001b[43m,\u001b[49m\n\u001b[1;32m     24\u001b[0m \u001b[43m    \u001b[49m\u001b[43mn_jobs\u001b[49m\u001b[38;5;241;43m=\u001b[39;49m\u001b[38;5;241;43m8\u001b[39;49m\u001b[43m,\u001b[49m\n\u001b[1;32m     25\u001b[0m \u001b[43m    \u001b[49m\u001b[43mcell_boundaries\u001b[49m\u001b[38;5;241;43m=\u001b[39;49m\u001b[38;5;28;43;01mTrue\u001b[39;49;00m\u001b[43m,\u001b[49m\n\u001b[1;32m     26\u001b[0m \u001b[43m    \u001b[49m\u001b[43mnucleus_boundaries\u001b[49m\u001b[38;5;241;43m=\u001b[39;49m\u001b[38;5;28;43;01mTrue\u001b[39;49;00m\u001b[43m,\u001b[49m\n\u001b[1;32m     27\u001b[0m \u001b[43m    \u001b[49m\u001b[43mmorphology_focus\u001b[49m\u001b[38;5;241;43m=\u001b[39;49m\u001b[38;5;28;43;01mTrue\u001b[39;49;00m\u001b[43m,\u001b[49m\n\u001b[1;32m     28\u001b[0m \u001b[43m    \u001b[49m\u001b[43mcells_as_circles\u001b[49m\u001b[38;5;241;43m=\u001b[39;49m\u001b[38;5;28;43;01mTrue\u001b[39;49;00m\u001b[43m,\u001b[49m\n\u001b[1;32m     29\u001b[0m \u001b[43m)\u001b[49m\n\u001b[1;32m     30\u001b[0m \u001b[38;5;28mprint\u001b[39m(\u001b[38;5;124m\"\u001b[39m\u001b[38;5;124mdone\u001b[39m\u001b[38;5;124m\"\u001b[39m)\n\u001b[1;32m     32\u001b[0m \u001b[38;5;66;03m# Writing the data to the output path\u001b[39;00m\n",
      "File \u001b[0;32m~/miniconda3/envs/imaging_based_data_analysis_env/lib/python3.9/site-packages/spatialdata_io/_utils.py:46\u001b[0m, in \u001b[0;36mdeprecation_alias.<locals>.deprecation_decorator.<locals>.wrapper\u001b[0;34m(*args, **kwargs)\u001b[0m\n\u001b[1;32m     44\u001b[0m class_name \u001b[38;5;241m=\u001b[39m f\u001b[38;5;241m.\u001b[39m\u001b[38;5;18m__qualname__\u001b[39m\n\u001b[1;32m     45\u001b[0m rename_kwargs(f\u001b[38;5;241m.\u001b[39m\u001b[38;5;18m__name__\u001b[39m, kwargs, aliases, class_name)\n\u001b[0;32m---> 46\u001b[0m \u001b[38;5;28;01mreturn\u001b[39;00m \u001b[43mf\u001b[49m\u001b[43m(\u001b[49m\u001b[38;5;241;43m*\u001b[39;49m\u001b[43margs\u001b[49m\u001b[43m,\u001b[49m\u001b[43m \u001b[49m\u001b[38;5;241;43m*\u001b[39;49m\u001b[38;5;241;43m*\u001b[39;49m\u001b[43mkwargs\u001b[49m\u001b[43m)\u001b[49m\n",
      "File \u001b[0;32m~/miniconda3/envs/imaging_based_data_analysis_env/lib/python3.9/site-packages/spatialdata_io/readers/xenium.py:334\u001b[0m, in \u001b[0;36mxenium\u001b[0;34m(path, cells_boundaries, nucleus_boundaries, cells_as_circles, cells_labels, nucleus_labels, transcripts, morphology_mip, morphology_focus, aligned_images, cells_table, n_jobs, imread_kwargs, image_models_kwargs, labels_models_kwargs)\u001b[0m\n\u001b[1;32m    330\u001b[0m \u001b[38;5;28;01massert\u001b[39;00m (\n\u001b[1;32m    331\u001b[0m     \u001b[38;5;124m\"\u001b[39m\u001b[38;5;124mc_coords\u001b[39m\u001b[38;5;124m\"\u001b[39m \u001b[38;5;129;01mnot\u001b[39;00m \u001b[38;5;129;01min\u001b[39;00m image_models_kwargs\n\u001b[1;32m    332\u001b[0m ), \u001b[38;5;124m\"\u001b[39m\u001b[38;5;124mThe channel names for the morphology focus images are handled internally\u001b[39m\u001b[38;5;124m\"\u001b[39m\n\u001b[1;32m    333\u001b[0m image_models_kwargs[\u001b[38;5;124m\"\u001b[39m\u001b[38;5;124mc_coords\u001b[39m\u001b[38;5;124m\"\u001b[39m] \u001b[38;5;241m=\u001b[39m \u001b[38;5;28mlist\u001b[39m(channel_names\u001b[38;5;241m.\u001b[39mvalues())\n\u001b[0;32m--> 334\u001b[0m images[\u001b[38;5;124m\"\u001b[39m\u001b[38;5;124mmorphology_focus\u001b[39m\u001b[38;5;124m\"\u001b[39m] \u001b[38;5;241m=\u001b[39m \u001b[43m_get_images\u001b[49m\u001b[43m(\u001b[49m\n\u001b[1;32m    335\u001b[0m \u001b[43m    \u001b[49m\u001b[43mmorphology_focus_dir\u001b[49m\u001b[43m,\u001b[49m\n\u001b[1;32m    336\u001b[0m \u001b[43m    \u001b[49m\u001b[43mXeniumKeys\u001b[49m\u001b[38;5;241;43m.\u001b[39;49m\u001b[43mMORPHOLOGY_FOCUS_CHANNEL_IMAGE\u001b[49m\u001b[38;5;241;43m.\u001b[39;49m\u001b[43mformat\u001b[49m\u001b[43m(\u001b[49m\u001b[38;5;241;43m0\u001b[39;49m\u001b[43m)\u001b[49m\u001b[43m,\u001b[49m\n\u001b[1;32m    337\u001b[0m \u001b[43m    \u001b[49m\u001b[43mimread_kwargs\u001b[49m\u001b[43m,\u001b[49m\n\u001b[1;32m    338\u001b[0m \u001b[43m    \u001b[49m\u001b[43mimage_models_kwargs\u001b[49m\u001b[43m,\u001b[49m\n\u001b[1;32m    339\u001b[0m \u001b[43m\u001b[49m\u001b[43m)\u001b[49m\n\u001b[1;32m    340\u001b[0m \u001b[38;5;28;01mdel\u001b[39;00m image_models_kwargs[\u001b[38;5;124m\"\u001b[39m\u001b[38;5;124mc_coords\u001b[39m\u001b[38;5;124m\"\u001b[39m]\n\u001b[1;32m    341\u001b[0m logger\u001b[38;5;241m.\u001b[39mremoveFilter(IgnoreSpecificMessage())\n",
      "File \u001b[0;32m~/miniconda3/envs/imaging_based_data_analysis_env/lib/python3.9/site-packages/spatialdata_io/readers/xenium.py:564\u001b[0m, in \u001b[0;36m_get_images\u001b[0;34m(path, file, imread_kwargs, image_models_kwargs)\u001b[0m\n\u001b[1;32m    558\u001b[0m \u001b[38;5;28;01mif\u001b[39;00m \u001b[38;5;124m\"\u001b[39m\u001b[38;5;124mc_coords\u001b[39m\u001b[38;5;124m\"\u001b[39m \u001b[38;5;129;01min\u001b[39;00m image_models_kwargs \u001b[38;5;129;01mand\u001b[39;00m \u001b[38;5;124m\"\u001b[39m\u001b[38;5;124mdummy\u001b[39m\u001b[38;5;124m\"\u001b[39m \u001b[38;5;129;01min\u001b[39;00m image_models_kwargs[\u001b[38;5;124m\"\u001b[39m\u001b[38;5;124mc_coords\u001b[39m\u001b[38;5;124m\"\u001b[39m]:\n\u001b[1;32m    559\u001b[0m     \u001b[38;5;66;03m# Napari currently interprets 4 channel images as RGB; a series of PRs to fix this is almost ready but they will\u001b[39;00m\n\u001b[1;32m    560\u001b[0m     \u001b[38;5;66;03m# not be merged soon.\u001b[39;00m\n\u001b[1;32m    561\u001b[0m     \u001b[38;5;66;03m# Here, since the new data from the xenium analyzer version 2.0.0 gives 4-channel images that are not RGBA,\u001b[39;00m\n\u001b[1;32m    562\u001b[0m     \u001b[38;5;66;03m# let's add a dummy channel as a temporary workaround.\u001b[39;00m\n\u001b[1;32m    563\u001b[0m     image \u001b[38;5;241m=\u001b[39m da\u001b[38;5;241m.\u001b[39mconcatenate([image, da\u001b[38;5;241m.\u001b[39mzeros_like(image[\u001b[38;5;241m0\u001b[39m:\u001b[38;5;241m1\u001b[39m])], axis\u001b[38;5;241m=\u001b[39m\u001b[38;5;241m0\u001b[39m)\n\u001b[0;32m--> 564\u001b[0m \u001b[38;5;28;01mreturn\u001b[39;00m \u001b[43mImage2DModel\u001b[49m\u001b[38;5;241;43m.\u001b[39;49m\u001b[43mparse\u001b[49m\u001b[43m(\u001b[49m\n\u001b[1;32m    565\u001b[0m \u001b[43m    \u001b[49m\u001b[43mimage\u001b[49m\u001b[43m,\u001b[49m\u001b[43m \u001b[49m\u001b[43mtransformations\u001b[49m\u001b[38;5;241;43m=\u001b[39;49m\u001b[43m{\u001b[49m\u001b[38;5;124;43m\"\u001b[39;49m\u001b[38;5;124;43mglobal\u001b[39;49m\u001b[38;5;124;43m\"\u001b[39;49m\u001b[43m:\u001b[49m\u001b[43m \u001b[49m\u001b[43mIdentity\u001b[49m\u001b[43m(\u001b[49m\u001b[43m)\u001b[49m\u001b[43m}\u001b[49m\u001b[43m,\u001b[49m\u001b[43m \u001b[49m\u001b[43mdims\u001b[49m\u001b[38;5;241;43m=\u001b[39;49m\u001b[43m(\u001b[49m\u001b[38;5;124;43m\"\u001b[39;49m\u001b[38;5;124;43mc\u001b[39;49m\u001b[38;5;124;43m\"\u001b[39;49m\u001b[43m,\u001b[49m\u001b[43m \u001b[49m\u001b[38;5;124;43m\"\u001b[39;49m\u001b[38;5;124;43my\u001b[39;49m\u001b[38;5;124;43m\"\u001b[39;49m\u001b[43m,\u001b[49m\u001b[43m \u001b[49m\u001b[38;5;124;43m\"\u001b[39;49m\u001b[38;5;124;43mx\u001b[39;49m\u001b[38;5;124;43m\"\u001b[39;49m\u001b[43m)\u001b[49m\u001b[43m,\u001b[49m\u001b[43m \u001b[49m\u001b[43mrgb\u001b[49m\u001b[38;5;241;43m=\u001b[39;49m\u001b[38;5;28;43;01mNone\u001b[39;49;00m\u001b[43m,\u001b[49m\u001b[43m \u001b[49m\u001b[38;5;241;43m*\u001b[39;49m\u001b[38;5;241;43m*\u001b[39;49m\u001b[43mimage_models_kwargs\u001b[49m\n\u001b[1;32m    566\u001b[0m \u001b[43m\u001b[49m\u001b[43m)\u001b[49m\n",
      "File \u001b[0;32m~/miniconda3/envs/imaging_based_data_analysis_env/lib/python3.9/site-packages/spatialdata/models/models.py:189\u001b[0m, in \u001b[0;36mRasterSchema.parse\u001b[0;34m(cls, data, dims, transformations, scale_factors, method, chunks, **kwargs)\u001b[0m\n\u001b[1;32m    183\u001b[0m         \u001b[38;5;28;01mraise\u001b[39;00m \u001b[38;5;167;01mValueError\u001b[39;00m(\n\u001b[1;32m    184\u001b[0m             \u001b[38;5;124mf\u001b[39m\u001b[38;5;124m\"\u001b[39m\u001b[38;5;124mCannot transpose arrays to match `dims`: \u001b[39m\u001b[38;5;132;01m{\u001b[39;00mdims\u001b[38;5;132;01m}\u001b[39;00m\u001b[38;5;124m.\u001b[39m\u001b[38;5;124m\"\u001b[39m,\n\u001b[1;32m    185\u001b[0m             \u001b[38;5;124m\"\u001b[39m\u001b[38;5;124mTry to reshape `data` or `dims`.\u001b[39m\u001b[38;5;124m\"\u001b[39m,\n\u001b[1;32m    186\u001b[0m         ) \u001b[38;5;28;01mfrom\u001b[39;00m \u001b[38;5;21;01me\u001b[39;00m\n\u001b[1;32m    188\u001b[0m \u001b[38;5;66;03m# finally convert to spatial image\u001b[39;00m\n\u001b[0;32m--> 189\u001b[0m data \u001b[38;5;241m=\u001b[39m \u001b[43mto_spatial_image\u001b[49m\u001b[43m(\u001b[49m\u001b[43marray_like\u001b[49m\u001b[38;5;241;43m=\u001b[39;49m\u001b[43mdata\u001b[49m\u001b[43m,\u001b[49m\u001b[43m \u001b[49m\u001b[43mdims\u001b[49m\u001b[38;5;241;43m=\u001b[39;49m\u001b[38;5;28;43mcls\u001b[39;49m\u001b[38;5;241;43m.\u001b[39;49m\u001b[43mdims\u001b[49m\u001b[38;5;241;43m.\u001b[39;49m\u001b[43mdims\u001b[49m\u001b[43m,\u001b[49m\u001b[43m \u001b[49m\u001b[38;5;241;43m*\u001b[39;49m\u001b[38;5;241;43m*\u001b[39;49m\u001b[43mkwargs\u001b[49m\u001b[43m)\u001b[49m\n\u001b[1;32m    190\u001b[0m \u001b[38;5;66;03m# parse transformations\u001b[39;00m\n\u001b[1;32m    191\u001b[0m _parse_transformations(data, transformations)\n",
      "\u001b[0;31mTypeError\u001b[0m: to_spatial_image() got an unexpected keyword argument 'rgb'"
     ]
    }
   ],
   "source": [
    "from spatialdata_io import xenium\n",
    "import spatialdata as sd\n",
    "from pathlib import Path\n",
    "import shutil\n",
    "\n",
    "path = Path().resolve() / \"data/xenium_2.0.0_io\"\n",
    "assert path.exists(), f\"Path {path} does not exist.\"\n",
    "path_read = path \n",
    "path_write = Path().resolve() / \"data.zarr\"\n",
    "print(\"Parsing the data... \", end=\"\")\n",
    "sdata = xenium(\n",
    "    path=str(path_read),\n",
    "    n_jobs=8,\n",
    "    cell_boundaries=True,\n",
    "    nucleus_boundaries=True,\n",
    "    morphology_focus=True,\n",
    "    cells_as_circles=True,\n",
    ")\n",
    "if path_write.exists():\n",
    "    shutil.rmtree(path_write)\n",
    "sdata.write(path_write)\n",
    "# Reading and verifying the output\n",
    "sdata = sd.SpatialData.read(str(path_write))\n",
    "print(sdata)\n"
   ]
  },
  {
   "cell_type": "code",
   "execution_count": null,
   "metadata": {},
   "outputs": [],
   "source": [
    "xenium_path = \"./data/xenium_2.0.0.zarr\""
   ]
  },
  {
   "cell_type": "code",
   "execution_count": 37,
   "metadata": {},
   "outputs": [
    {
     "name": "stdout",
     "output_type": "stream",
     "text": [
      "CPU times: user 1.81 ms, sys: 3.87 ms, total: 5.67 ms\n",
      "Wall time: 13.5 ms\n"
     ]
    },
    {
     "data": {
      "text/plain": [
       "SpatialData object, with associated Zarr store: /Users/rasools/Library/CloudStorage/OneDrive-Chalmers/Documents/github/ELIXIR-SCO-spatial-transcriptomics/day_1/practical_1/data/Xenium_V1_FFPE_TgCRND8_17_9_months_outs\n",
       "with coordinate systems:\n",
       "\n",
       "with the following elements in the Zarr store but not in the SpatialData object:\n",
       "    ▸ gene (Density)\n",
       "    ▸ 5 (Cell_groups)\n",
       "    ▸ 4 (Grids)\n",
       "    ▸ 3 (Cell_groups)\n",
       "    ▸ 9 (Cell_groups)\n",
       "    ▸ 5 (Grids)\n",
       "    ▸ 8 (Cell_groups)\n",
       "    ▸ 1 (Cell_groups)\n",
       "    ▸ 2 (Grids)\n",
       "    ▸ 0 (Cell_groups)\n",
       "    ▸ 7 (Cell_groups)\n",
       "    ▸ 0 (Grids)\n",
       "    ▸ 4 (Cell_groups)\n",
       "    ▸ 3 (Grids)\n",
       "    ▸ 1 (Grids)\n",
       "    ▸ 2 (Cell_groups)\n",
       "    ▸ 6 (Cell_groups)"
      ]
     },
     "execution_count": 37,
     "metadata": {},
     "output_type": "execute_result"
    }
   ],
   "source": [
    "%%time\n",
    "import spatialdata as sd\n",
    "\n",
    "sdata = sd.read_zarr(xenium_path)\n",
    "sdata"
   ]
  },
  {
   "cell_type": "code",
   "execution_count": 38,
   "metadata": {},
   "outputs": [
    {
     "ename": "KeyError",
     "evalue": "'table'",
     "output_type": "error",
     "traceback": [
      "\u001b[0;31m---------------------------------------------------------------------------\u001b[0m",
      "\u001b[0;31mKeyError\u001b[0m                                  Traceback (most recent call last)",
      "Cell \u001b[0;32mIn[38], line 3\u001b[0m\n\u001b[1;32m      1\u001b[0m \u001b[38;5;28;01mimport\u001b[39;00m \u001b[38;5;21;01mscanpy\u001b[39;00m \u001b[38;5;28;01mas\u001b[39;00m \u001b[38;5;21;01msc\u001b[39;00m\n\u001b[0;32m----> 3\u001b[0m sc\u001b[38;5;241m.\u001b[39mpp\u001b[38;5;241m.\u001b[39mnormalize_total(\u001b[43msdata\u001b[49m\u001b[38;5;241;43m.\u001b[39;49m\u001b[43mtables\u001b[49m\u001b[43m[\u001b[49m\u001b[38;5;124;43m\"\u001b[39;49m\u001b[38;5;124;43mtable\u001b[39;49m\u001b[38;5;124;43m\"\u001b[39;49m\u001b[43m]\u001b[49m)\n\u001b[1;32m      4\u001b[0m sc\u001b[38;5;241m.\u001b[39mpp\u001b[38;5;241m.\u001b[39mlog1p(sdata\u001b[38;5;241m.\u001b[39mtables[\u001b[38;5;124m\"\u001b[39m\u001b[38;5;124mtable\u001b[39m\u001b[38;5;124m\"\u001b[39m])\n\u001b[1;32m      5\u001b[0m sc\u001b[38;5;241m.\u001b[39mpp\u001b[38;5;241m.\u001b[39mhighly_variable_genes(sdata\u001b[38;5;241m.\u001b[39mtables[\u001b[38;5;124m\"\u001b[39m\u001b[38;5;124mtable\u001b[39m\u001b[38;5;124m\"\u001b[39m])\n",
      "File \u001b[0;32m~/miniconda3/envs/imaging_based_data_analysis_env/lib/python3.9/collections/__init__.py:1058\u001b[0m, in \u001b[0;36mUserDict.__getitem__\u001b[0;34m(self, key)\u001b[0m\n\u001b[1;32m   1056\u001b[0m \u001b[38;5;28;01mif\u001b[39;00m \u001b[38;5;28mhasattr\u001b[39m(\u001b[38;5;28mself\u001b[39m\u001b[38;5;241m.\u001b[39m\u001b[38;5;18m__class__\u001b[39m, \u001b[38;5;124m\"\u001b[39m\u001b[38;5;124m__missing__\u001b[39m\u001b[38;5;124m\"\u001b[39m):\n\u001b[1;32m   1057\u001b[0m     \u001b[38;5;28;01mreturn\u001b[39;00m \u001b[38;5;28mself\u001b[39m\u001b[38;5;241m.\u001b[39m\u001b[38;5;18m__class__\u001b[39m\u001b[38;5;241m.\u001b[39m\u001b[38;5;21m__missing__\u001b[39m(\u001b[38;5;28mself\u001b[39m, key)\n\u001b[0;32m-> 1058\u001b[0m \u001b[38;5;28;01mraise\u001b[39;00m \u001b[38;5;167;01mKeyError\u001b[39;00m(key)\n",
      "\u001b[0;31mKeyError\u001b[0m: 'table'"
     ]
    }
   ],
   "source": [
    "import scanpy as sc\n",
    "\n",
    "sc.pp.normalize_total(sdata.tables[\"table\"])\n",
    "sc.pp.log1p(sdata.tables[\"table\"])\n",
    "sc.pp.highly_variable_genes(sdata.tables[\"table\"])\n",
    "sdata.tables[\"table\"].var.sort_values(\"means\")"
   ]
  },
  {
   "cell_type": "code",
   "execution_count": null,
   "metadata": {},
   "outputs": [],
   "source": [
    "docker build --no-cache --platform=linux/amd64 -t docker.io/rasoolsnbis/estc_2025:p1 -f \"day_1/practical_1/Dockerfile\" \"day_1/practical_1\"            \n"
   ]
  }
 ],
 "metadata": {
  "kernelspec": {
   "display_name": "imaging_based_data_analysis_env",
   "language": "python",
   "name": "python3"
  },
  "language_info": {
   "codemirror_mode": {
    "name": "ipython",
    "version": 3
   },
   "file_extension": ".py",
   "mimetype": "text/x-python",
   "name": "python",
   "nbconvert_exporter": "python",
   "pygments_lexer": "ipython3",
   "version": "3.9.20"
  }
 },
 "nbformat": 4,
 "nbformat_minor": 2
}
